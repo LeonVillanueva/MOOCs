{
 "cells": [
  {
   "cell_type": "markdown",
   "metadata": {},
   "source": [
    "---\n",
    "\n",
    "_You are currently looking at **version 1.0** of this notebook. To download notebooks and datafiles, as well as get help on Jupyter notebooks in the Coursera platform, visit the [Jupyter Notebook FAQ](https://www.coursera.org/learn/python-text-mining/resources/d9pwm) course resource._\n",
    "\n",
    "---"
   ]
  },
  {
   "cell_type": "code",
   "execution_count": null,
   "metadata": {
    "collapsed": true
   },
   "outputs": [],
   "source": []
  },
  {
   "cell_type": "markdown",
   "metadata": {},
   "source": [
    "# Assignment 4 - Document Similarity & Topic Modelling"
   ]
  },
  {
   "cell_type": "markdown",
   "metadata": {},
   "source": [
    "## Part 1 - Document Similarity\n",
    "\n",
    "For the first part of this assignment, you will complete the functions `doc_to_synsets` and `similarity_score` which will be used by `document_path_similarity` to find the path similarity between two documents.\n",
    "\n",
    "The following functions are provided:\n",
    "* **`convert_tag:`** converts the tag given by `nltk.pos_tag` to a tag used by `wordnet.synsets`. You will need to use this function in `doc_to_synsets`.\n",
    "* **`document_path_similarity:`** computes the symmetrical path similarity between two documents by finding the synsets in each document using `doc_to_synsets`, then computing similarities using `similarity_score`.\n",
    "\n",
    "You will need to finish writing the following functions:\n",
    "* **`doc_to_synsets:`** returns a list of synsets in document. This function should first tokenize and part of speech tag the document using `nltk.word_tokenize` and `nltk.pos_tag`. Then it should find each tokens corresponding synset using `wn.synsets(token, wordnet_tag)`. The first synset match should be used. If there is no match, that token is skipped.\n",
    "* **`similarity_score:`** returns the normalized similarity score of a list of synsets (s1) onto a second list of synsets (s2). For each synset in s1, find the synset in s2 with the largest similarity value. Sum all of the largest similarity values together and normalize this value by dividing it by the number of largest similarity values found. Be careful with data types, which should be floats. Missing values should be ignored.\n",
    "\n",
    "Once `doc_to_synsets` and `similarity_score` have been completed, submit to the autograder which will run `test_document_path_similarity` to test that these functions are running correctly. \n",
    "\n",
    "*Do not modify the functions `convert_tag`, `document_path_similarity`, and `test_document_path_similarity`.*"
   ]
  },
  {
   "cell_type": "code",
   "execution_count": 1,
   "metadata": {
    "collapsed": true
   },
   "outputs": [],
   "source": [
    "from nltk.stem import WordNetLemmatizer\n",
    "lemmatizer = WordNetLemmatizer()\n",
    "import re"
   ]
  },
  {
   "cell_type": "code",
   "execution_count": 2,
   "metadata": {},
   "outputs": [
    {
     "data": {
      "text/plain": [
       "\"a = [None]*5\\nb = list(filter(None, a))\\nif not b:\\n    print (b)\\n#is 0 = the same word? no can't it's 1/(n+1)\""
      ]
     },
     "execution_count": 2,
     "metadata": {},
     "output_type": "execute_result"
    }
   ],
   "source": [
    "'''a = [None]*5\n",
    "b = list(filter(None, a))\n",
    "if not b:\n",
    "    print (b)\n",
    "#is 0 = the same word? no can't it's 1/(n+1)'''"
   ]
  },
  {
   "cell_type": "code",
   "execution_count": 3,
   "metadata": {},
   "outputs": [
    {
     "data": {
      "text/plain": [
       "'#VERSION 1.0\\n#I HATE THIS\\nimport numpy as np\\nimport nltk\\nfrom nltk.corpus import wordnet as wn\\nimport pandas as pd\\n\\n\\ndef convert_tag(tag):\\n    \"\"\"Convert the tag given by nltk.pos_tag to the tag used by wordnet.synsets\"\"\"\\n    \\n    tag_dict = {\\'N\\': \\'n\\', \\'J\\': \\'a\\', \\'R\\': \\'r\\', \\'V\\': \\'v\\'}\\n    try:\\n        return tag_dict[tag[0]]\\n    except KeyError:\\n        return None\\n\\n\\ndef doc_to_synsets(doc):\\n    \"\"\"\\n    Returns a list of synsets in document.\\n\\n    Tokenizes and tags the words in the document doc.\\n    Then finds the first synset for each word/tag combination.\\n    If a synset is not found for that combination it is skipped.\\n\\n    Args:\\n        doc: string to be converted\\n\\n    Returns:\\n        list of synsets\\n\\n    Example:\\n        doc_to_synsets(\\'Fish are nvqjp friends.\\')\\n        Out: [Synset(\\'fish.n.01\\'), Synset(\\'be.v.01\\'), Synset(\\'friend.n.01\\')]\\n    \"\"\"\\n    \\n\\n    # Your Code Here\\n    \\n    \\n    #remove everything punctuation excluding spaces\\n    #edit: removing numbers as well but maybe that\\'s NOT good\\n    x = re.sub(r\\'([\\\\W]|[\\\\d])+\\', \\' \\', doc)\\n    x = x.lower()\\n    #tokenize list and lower\\n    tokens = list(nltk.word_tokenize(x))\\n    mask = [True] * len(tokens)\\n    for i in range(len(tokens)):\\n        if len(wn.synsets(tokens[i])) == 0:\\n            mask[i] = False\\n        else:\\n            mask[i] = True\\n    tokens = list(np.array(tokens)[np.array(mask)])\\n    #do i need this if i use sysnet(s) = answer: yes because or ARE = VERB NOT NOUN, OMG_MF\\n    #get pos_tags to remove None\\n    pos_token = nltk.pos_tag(tokens)\\n    z = map(convert_tag, pos_token)\\n    df = pd.DataFrame(pos_token)\\n    df.columns = [\\'word\\', \\'pos\\']\\n    df[\\'pos\\'] = list(map(convert_tag,df[\\'pos\\']))\\n    df.dropna(inplace=True)\\n    \\n    #lemmatize to the correct word usage\\n    lemma_list = [None]*len(df)\\n    for i in range(len(lemma_list)):\\n        lemma_list[i] = lemmatizer.lemmatize(df.iloc[i,0],df.iloc[i,1])\\n    df[\\'word\\'] = lemma_list\\n    df[\\'combo\\'] = df[\\'word\\']+\\'.\\'+df[\\'pos\\']+\\'.01\\'\\n\\n    prep_tokens = list(df[\\'combo\\'])\\n    \\n    syns = [None]*len(prep_tokens)\\n    for t in range(len(syns)):\\n        #try:\\n        syns[t] = wn.synset(prep_tokens[t])\\n        #except Exception:\\n            #continue\\n    syns = [x for x in syns if x is not None]\\n    \\n    return syns\\n\\n\\ndef similarity_score(s1, s2):\\n    \"\"\"\\n    Calculate the normalized similarity score of s1 onto s2\\n\\n    For each synset in s1, finds the synset in s2 with the largest similarity value.\\n    Sum of all of the largest similarity values and normalize this value by dividing it by the\\n    number of largest similarity values found.\\n\\n    Args:\\n        s1, s2: list of synsets from doc_to_synsets\\n\\n    Returns:\\n        normalized similarity score of s1 onto s2\\n\\n    Example:\\n        synsets1 = doc_to_synsets(\\'I like cats\\')\\n        synsets2 = doc_to_synsets(\\'I like dogs\\')\\n        similarity_score(synsets1, synsets2)\\n        Out: 0.73333333333333339\\n    \"\"\"\\n    \\n    \\n    x1 = s1\\n    x2 = s2\\n\\n    syn_scores = [None]*len(x1)\\n    for i in range(len(x1)):\\n        #print(i)\\n        temp_scores = [None]*len(x2)\\n        for j in range(len(x2)):\\n            #print (i,j)\\n            temp_scores[j] = x1[i].path_similarity(x2[j])\\n            #print(x1[i],x2[j],\":\",temp_scores[j])])\\n            #print(temp_scores[j])\\n        #print(temp_scores)\\n        temp_scores = [x for x in temp_scores if x != None]\\n        if len(temp_scores) == 0:\\n            syn_scores[i] = None\\n        else:\\n            syn_scores[i] = max(temp_scores)\\n        #temp_scores = filter(0, temp_scores)\\n        #syn_scores[i] = max(temp_scores)\\n    syn_scores = list(filter(None, syn_scores))\\n    return np.mean(syn_scores)\\n\\n\\ndef document_path_similarity(doc1, doc2):\\n    \"\"\"Finds the symmetrical similarity between doc1 and doc2\"\"\"\\n\\n    synsets1 = doc_to_synsets(doc1)\\n    synsets2 = doc_to_synsets(doc2)\\n\\n    return (similarity_score(synsets1, synsets2) + similarity_score(synsets2, synsets1)) / 2'"
      ]
     },
     "execution_count": 3,
     "metadata": {},
     "output_type": "execute_result"
    }
   ],
   "source": [
    "'''#VERSION 1.0\n",
    "#I HATE THIS\n",
    "import numpy as np\n",
    "import nltk\n",
    "from nltk.corpus import wordnet as wn\n",
    "import pandas as pd\n",
    "\n",
    "\n",
    "def convert_tag(tag):\n",
    "    \"\"\"Convert the tag given by nltk.pos_tag to the tag used by wordnet.synsets\"\"\"\n",
    "    \n",
    "    tag_dict = {'N': 'n', 'J': 'a', 'R': 'r', 'V': 'v'}\n",
    "    try:\n",
    "        return tag_dict[tag[0]]\n",
    "    except KeyError:\n",
    "        return None\n",
    "\n",
    "\n",
    "def doc_to_synsets(doc):\n",
    "    \"\"\"\n",
    "    Returns a list of synsets in document.\n",
    "\n",
    "    Tokenizes and tags the words in the document doc.\n",
    "    Then finds the first synset for each word/tag combination.\n",
    "    If a synset is not found for that combination it is skipped.\n",
    "\n",
    "    Args:\n",
    "        doc: string to be converted\n",
    "\n",
    "    Returns:\n",
    "        list of synsets\n",
    "\n",
    "    Example:\n",
    "        doc_to_synsets('Fish are nvqjp friends.')\n",
    "        Out: [Synset('fish.n.01'), Synset('be.v.01'), Synset('friend.n.01')]\n",
    "    \"\"\"\n",
    "    \n",
    "\n",
    "    # Your Code Here\n",
    "    \n",
    "    \n",
    "    #remove everything punctuation excluding spaces\n",
    "    #edit: removing numbers as well but maybe that's NOT good\n",
    "    x = re.sub(r'([\\W]|[\\d])+', ' ', doc)\n",
    "    x = x.lower()\n",
    "    #tokenize list and lower\n",
    "    tokens = list(nltk.word_tokenize(x))\n",
    "    mask = [True] * len(tokens)\n",
    "    for i in range(len(tokens)):\n",
    "        if len(wn.synsets(tokens[i])) == 0:\n",
    "            mask[i] = False\n",
    "        else:\n",
    "            mask[i] = True\n",
    "    tokens = list(np.array(tokens)[np.array(mask)])\n",
    "    #do i need this if i use sysnet(s) = answer: yes because or ARE = VERB NOT NOUN, OMG_MF\n",
    "    #get pos_tags to remove None\n",
    "    pos_token = nltk.pos_tag(tokens)\n",
    "    z = map(convert_tag, pos_token)\n",
    "    df = pd.DataFrame(pos_token)\n",
    "    df.columns = ['word', 'pos']\n",
    "    df['pos'] = list(map(convert_tag,df['pos']))\n",
    "    df.dropna(inplace=True)\n",
    "    \n",
    "    #lemmatize to the correct word usage\n",
    "    lemma_list = [None]*len(df)\n",
    "    for i in range(len(lemma_list)):\n",
    "        lemma_list[i] = lemmatizer.lemmatize(df.iloc[i,0],df.iloc[i,1])\n",
    "    df['word'] = lemma_list\n",
    "    df['combo'] = df['word']+'.'+df['pos']+'.01'\n",
    "\n",
    "    prep_tokens = list(df['combo'])\n",
    "    \n",
    "    syns = [None]*len(prep_tokens)\n",
    "    for t in range(len(syns)):\n",
    "        #try:\n",
    "        syns[t] = wn.synset(prep_tokens[t])\n",
    "        #except Exception:\n",
    "            #continue\n",
    "    syns = [x for x in syns if x is not None]\n",
    "    \n",
    "    return syns\n",
    "\n",
    "\n",
    "def similarity_score(s1, s2):\n",
    "    \"\"\"\n",
    "    Calculate the normalized similarity score of s1 onto s2\n",
    "\n",
    "    For each synset in s1, finds the synset in s2 with the largest similarity value.\n",
    "    Sum of all of the largest similarity values and normalize this value by dividing it by the\n",
    "    number of largest similarity values found.\n",
    "\n",
    "    Args:\n",
    "        s1, s2: list of synsets from doc_to_synsets\n",
    "\n",
    "    Returns:\n",
    "        normalized similarity score of s1 onto s2\n",
    "\n",
    "    Example:\n",
    "        synsets1 = doc_to_synsets('I like cats')\n",
    "        synsets2 = doc_to_synsets('I like dogs')\n",
    "        similarity_score(synsets1, synsets2)\n",
    "        Out: 0.73333333333333339\n",
    "    \"\"\"\n",
    "    \n",
    "    \n",
    "    x1 = s1\n",
    "    x2 = s2\n",
    "\n",
    "    syn_scores = [None]*len(x1)\n",
    "    for i in range(len(x1)):\n",
    "        #print(i)\n",
    "        temp_scores = [None]*len(x2)\n",
    "        for j in range(len(x2)):\n",
    "            #print (i,j)\n",
    "            temp_scores[j] = x1[i].path_similarity(x2[j])\n",
    "            #print(x1[i],x2[j],\":\",temp_scores[j])])\n",
    "            #print(temp_scores[j])\n",
    "        #print(temp_scores)\n",
    "        temp_scores = [x for x in temp_scores if x != None]\n",
    "        if len(temp_scores) == 0:\n",
    "            syn_scores[i] = None\n",
    "        else:\n",
    "            syn_scores[i] = max(temp_scores)\n",
    "        #temp_scores = filter(0, temp_scores)\n",
    "        #syn_scores[i] = max(temp_scores)\n",
    "    syn_scores = list(filter(None, syn_scores))\n",
    "    return np.mean(syn_scores)\n",
    "\n",
    "\n",
    "def document_path_similarity(doc1, doc2):\n",
    "    \"\"\"Finds the symmetrical similarity between doc1 and doc2\"\"\"\n",
    "\n",
    "    synsets1 = doc_to_synsets(doc1)\n",
    "    synsets2 = doc_to_synsets(doc2)\n",
    "\n",
    "    return (similarity_score(synsets1, synsets2) + similarity_score(synsets2, synsets1)) / 2'''"
   ]
  },
  {
   "cell_type": "code",
   "execution_count": 4,
   "metadata": {
    "collapsed": true
   },
   "outputs": [],
   "source": [
    "import numpy as np\n",
    "import nltk\n",
    "from nltk.corpus import wordnet as wn\n",
    "import pandas as pd\n",
    "\n",
    "#VERSION 1.5\n",
    "\n",
    "def convert_tag(tag):\n",
    "    \"\"\"Convert the tag given by nltk.pos_tag to the tag used by wordnet.synsets\"\"\"\n",
    "    \n",
    "    tag_dict = {'N': 'n', 'J': 'a', 'R': 'r', 'V': 'v'}\n",
    "    try:\n",
    "        return tag_dict[tag[0]]\n",
    "    except KeyError:\n",
    "        return None\n",
    "\n",
    "\n",
    "def doc_to_synsets(doc):\n",
    "    \"\"\"\n",
    "    Returns a list of synsets in document.\n",
    "\n",
    "    Tokenizes and tags the words in the document doc.\n",
    "    Then finds the first synset for each word/tag combination.\n",
    "    If a synset is not found for that combination it is skipped.\n",
    "\n",
    "    Args:\n",
    "        doc: string to be converted\n",
    "\n",
    "    Returns:\n",
    "        list of synsets\n",
    "\n",
    "    Example:\n",
    "        doc_to_synsets('Fish are nvqjp friends.')\n",
    "        Out: [Synset('fish.n.01'), Synset('be.v.01'), Synset('friend.n.01')]\n",
    "    \"\"\"\n",
    "    \n",
    "\n",
    "    # Your Code Here\n",
    "    \n",
    "    x = doc\n",
    "    x = re.sub(r'([\\W]|[\\d])+', ' ', x)\n",
    "    x = x.lower()\n",
    "\n",
    "    #version 1.5\n",
    "    tokens = list(nltk.word_tokenize(x))\n",
    "    #insert lemma\n",
    "    pos_token = nltk.pos_tag(tokens)\n",
    "    pos_list = [x[1] for x in pos_token]\n",
    "    pos_list = list(map(convert_tag,pos_list))\n",
    "    token_pos = list(zip(tokens, pos_list))\n",
    "    prep_tokens = [x for x in token_pos if x[1] != None]\n",
    "    new_tokens = [x[0] for x in prep_tokens]\n",
    "    \n",
    "    #removed for 8:13 PM trial\n",
    "    #lemma here\n",
    "    #lemma_list = [None]*len(prep_tokens)\n",
    "    #for i in range(len(lemma_list)):\n",
    "    #    lemma_list[i] = lemmatizer.lemmatize(prep_tokens[i][0],prep_tokens[i][1])\n",
    "    #final_pos = [x[1] for x in prep_tokens]\n",
    "    #final_tokens = list(zip(lemma_list, final_pos))\n",
    "    #lemma there, dilemma of the lemma\n",
    "    \n",
    "    syns = [None]*len(new_tokens)\n",
    "    for t in range(len(syns)):\n",
    "        if len(wn.synsets(new_tokens[t])) == 0:\n",
    "            syns[t] = None\n",
    "        else:\n",
    "            syns[t] = wn.synsets(new_tokens[t])[0]\n",
    "            #syns[t] = wn.synsets(final_tokens[t][0], final_tokens[t][1])[0]\n",
    "        #except Exception:\n",
    "        #    continue\n",
    "    syns = [x for x in syns if x is not None]\n",
    "      \n",
    "    return syns\n",
    "\n",
    "\n",
    "def similarity_score(s1, s2):\n",
    "    \"\"\"\n",
    "    Calculate the normalized similarity score of s1 onto s2\n",
    "\n",
    "    For each synset in s1, finds the synset in s2 with the largest similarity value.\n",
    "    Sum of all of the largest similarity values and normalize this value by dividing it by the\n",
    "    number of largest similarity values found.\n",
    "\n",
    "    Args:\n",
    "        s1, s2: list of synsets from doc_to_synsets\n",
    "\n",
    "    Returns:\n",
    "        normalized similarity score of s1 onto s2\n",
    "\n",
    "    Example:\n",
    "        synsets1 = doc_to_synsets('I like cats')\n",
    "        synsets2 = doc_to_synsets('I like dogs')\n",
    "        similarity_score(synsets1, synsets2)\n",
    "        Out: 0.73333333333333339\n",
    "    \"\"\"\n",
    "    \n",
    "    \n",
    "    x1 = s1\n",
    "    x2 = s2\n",
    "\n",
    "    syn_scores = [None]*len(x1)\n",
    "    for i in range(len(x1)):\n",
    "        #print(i)\n",
    "        temp_scores = [None]*len(x2)\n",
    "        for j in range(len(x2)):\n",
    "            #print (i,j)\n",
    "            temp_scores[j] = x1[i].path_similarity(x2[j])\n",
    "            #print(x1[i],x2[j],\":\",temp_scores[j])])\n",
    "            #print(temp_scores[j])\n",
    "        #print(temp_scores)\n",
    "        temp_scores = [x for x in temp_scores if x != None]\n",
    "        if len(temp_scores) == 0:\n",
    "            syn_scores[i] = None\n",
    "        else:\n",
    "            syn_scores[i] = max(temp_scores)\n",
    "        #temp_scores = filter(0, temp_scores)\n",
    "        #syn_scores[i] = max(temp_scores)\n",
    "    syn_scores = list(filter(None, syn_scores))\n",
    "    return np.mean(syn_scores)\n",
    "\n",
    "\n",
    "def document_path_similarity(doc1, doc2):\n",
    "    \"\"\"Finds the symmetrical similarity between doc1 and doc2\"\"\"\n",
    "\n",
    "    synsets1 = doc_to_synsets(doc1)\n",
    "    synsets2 = doc_to_synsets(doc2)\n",
    "\n",
    "    return (similarity_score(synsets1, synsets2) + similarity_score(synsets2, synsets1)) / 2"
   ]
  },
  {
   "cell_type": "code",
   "execution_count": 5,
   "metadata": {},
   "outputs": [
    {
     "data": {
      "text/plain": [
       "0.55706145706145715"
      ]
     },
     "execution_count": 5,
     "metadata": {},
     "output_type": "execute_result"
    }
   ],
   "source": [
    "doc1 = 'This is a function to test document_path_similarity.'\n",
    "doc2 = 'Use this function to see if your code in doc_to_synsets \\\n",
    "and similarity_score is correct!'\n",
    "document_path_similarity(doc1, doc2)"
   ]
  },
  {
   "cell_type": "code",
   "execution_count": 6,
   "metadata": {},
   "outputs": [
    {
     "data": {
      "text/plain": [
       "'x = \"The card is issued by Mexico\\'s consulates to its citizens living abroad and shows the date of birth, a current photograph and the address of the cardholder.\"\\nx = re.sub(r\\'([\\\\W]|[\\\\d])+\\', \\' \\', x)\\nx = x.lower()\\nx'"
      ]
     },
     "execution_count": 6,
     "metadata": {},
     "output_type": "execute_result"
    }
   ],
   "source": [
    "'''x = \"The card is issued by Mexico's consulates to its citizens living abroad and shows the date of birth, a current photograph and the address of the cardholder.\"\n",
    "x = re.sub(r'([\\W]|[\\d])+', ' ', x)\n",
    "x = x.lower()\n",
    "x'''"
   ]
  },
  {
   "cell_type": "code",
   "execution_count": 7,
   "metadata": {},
   "outputs": [
    {
     "data": {
      "text/plain": [
       "['ms', 'stewart', 'chief', 'executive', 'was', 'not', 'expected', 'attend']"
      ]
     },
     "execution_count": 7,
     "metadata": {},
     "output_type": "execute_result"
    }
   ],
   "source": [
    "x = 'Ms Stewart, the chief executive, was not expected to attend.'\n",
    "x = re.sub(r'([\\W]|[\\d])+', ' ', x)\n",
    "x = x.lower()\n",
    "\n",
    "#version 1.5\n",
    "tokens = list(nltk.word_tokenize(x))\n",
    "#insert lemma\n",
    "pos_token = nltk.pos_tag(tokens)\n",
    "pos_list = [x[1] for x in pos_token]\n",
    "pos_list = list(map(convert_tag,pos_list))\n",
    "token_pos = list(zip(tokens, pos_list))\n",
    "prep_tokens = [x for x in token_pos if x[1] != None]\n",
    "new_tokens = [x[0] for x in prep_tokens]\n",
    "#lemma here\n",
    "#lemma_list = [None]*len(prep_tokens)\n",
    "#for i in range(len(lemma_list)):\n",
    "#    lemma_list[i] = lemmatizer.lemmatize(prep_tokens[i][0],prep_tokens[i][1])\n",
    "#final_pos = [x[1] for x in prep_tokens]\n",
    "#final_tokens = list(zip(lemma_list, prep_tokens[1]))\n",
    "#lemma there, dilemma of the lemma\n",
    "\n",
    "'''\n",
    "#version 1.0\n",
    "tokens2 = list(nltk.word_tokenize(x))\n",
    "mask = [True] * len(tokens)\n",
    "for i in range(len(tokens)):\n",
    "    if len(wn.synsets(tokens[i])) == 0:\n",
    "        mask[i] = False\n",
    "    else:\n",
    "        mask[i] = True\n",
    "tokens = list(np.array(tokens)[np.array(mask)])\n",
    "      \n",
    "    #do i need this if i use sysnet(s)\n",
    "    #get pos_tags to remove None\n",
    "pos_token = nltk.pos_tag(tokens)\n",
    "        #z = map(convert_tag, pos_token)\n",
    "df = pd.DataFrame(pos_token)\n",
    "df.columns = ['word', 'pos']\n",
    "\n",
    "df['pos'] = list(map(convert_tag,df['pos']))\n",
    "df.dropna(inplace=True)\n",
    "   \n",
    "    #lemmatize to the correct word usage\n",
    "lemma_list = [None]*len(df)\n",
    "for i in range(len(lemma_list)):\n",
    "    lemma_list[i] = lemmatizer.lemmatize(df.iloc[i,0],df.iloc[i,1])\n",
    "df['word'] = lemma_list\n",
    "df['combo'] = df['word']+'.'+df['pos']+'.01'\n",
    "\n",
    "#re_tuple\n",
    "pos_token_clean = [tuple(x) for x in df.values]\n",
    "pos_token_clean[0]\n",
    "\n",
    "prep_tokens = list(df['combo'])\n",
    "wn.synsets('ms','a')\n",
    "#df'''\n",
    "new_tokens"
   ]
  },
  {
   "cell_type": "code",
   "execution_count": 8,
   "metadata": {},
   "outputs": [
    {
     "data": {
      "text/plain": [
       "'lemma_list = [None]*len(prep_tokens)\\nfor i in range(len(lemma_list)):\\n    lemma_list[i] = lemmatizer.lemmatize(prep_tokens[i][0],prep_tokens[i][1])\\nlemma_list'"
      ]
     },
     "execution_count": 8,
     "metadata": {},
     "output_type": "execute_result"
    }
   ],
   "source": [
    "#important maybe lemma if needed?\n",
    "'''lemma_list = [None]*len(prep_tokens)\n",
    "for i in range(len(lemma_list)):\n",
    "    lemma_list[i] = lemmatizer.lemmatize(prep_tokens[i][0],prep_tokens[i][1])\n",
    "lemma_list'''"
   ]
  },
  {
   "cell_type": "code",
   "execution_count": 9,
   "metadata": {},
   "outputs": [
    {
     "data": {
      "text/plain": [
       "[Synset('lazy.s.01'), Synset('faineant.s.01')]"
      ]
     },
     "execution_count": 9,
     "metadata": {},
     "output_type": "execute_result"
    }
   ],
   "source": [
    "wn.synsets('lazy')\n"
   ]
  },
  {
   "cell_type": "code",
   "execution_count": 10,
   "metadata": {},
   "outputs": [
    {
     "data": {
      "text/plain": [
       "'syns = [None]*len(final_tokens)\\nfor t in range(len(syns)):\\n    if len(wn.synsets(final_tokens[t][0], final_tokens[t][1])) == 0:\\n        syns[t] = None\\n    else:\\n        syns[t] = wn.synsets(final_tokens[t][0], final_tokens[t][1])[0]\\n    #except Exception:\\n    #    continue\\nsyns = [x for x in syns if x is not None]\\nsyns'"
      ]
     },
     "execution_count": 10,
     "metadata": {},
     "output_type": "execute_result"
    }
   ],
   "source": [
    "'''syns = [None]*len(final_tokens)\n",
    "for t in range(len(syns)):\n",
    "    if len(wn.synsets(final_tokens[t][0], final_tokens[t][1])) == 0:\n",
    "        syns[t] = None\n",
    "    else:\n",
    "        syns[t] = wn.synsets(final_tokens[t][0], final_tokens[t][1])[0]\n",
    "    #except Exception:\n",
    "    #    continue\n",
    "syns = [x for x in syns if x is not None]\n",
    "syns'''"
   ]
  },
  {
   "cell_type": "code",
   "execution_count": 11,
   "metadata": {},
   "outputs": [
    {
     "data": {
      "text/plain": [
       "\"#https://stackoverflow.com/questions/27591621/nltk-convert-tokenized-sentence-to-synset-format\\nfrom nltk.corpus import wordnet as wn\\n\\ndef penn_to_wn(tag):\\n    if tag.startswith('J'):\\n        return wn.ADJ\\n    elif tag.startswith('N'):\\n        return wn.NOUN\\n    elif tag.startswith('R'):\\n        return wn.ADV\\n    elif tag.startswith('V'):\\n        return wn.VERB\\n    return None\""
      ]
     },
     "execution_count": 11,
     "metadata": {},
     "output_type": "execute_result"
    }
   ],
   "source": [
    "'''#https://stackoverflow.com/questions/27591621/nltk-convert-tokenized-sentence-to-synset-format\n",
    "from nltk.corpus import wordnet as wn\n",
    "\n",
    "def penn_to_wn(tag):\n",
    "    if tag.startswith('J'):\n",
    "        return wn.ADJ\n",
    "    elif tag.startswith('N'):\n",
    "        return wn.NOUN\n",
    "    elif tag.startswith('R'):\n",
    "        return wn.ADV\n",
    "    elif tag.startswith('V'):\n",
    "        return wn.VERB\n",
    "    return None'''"
   ]
  },
  {
   "cell_type": "code",
   "execution_count": 12,
   "metadata": {},
   "outputs": [
    {
     "data": {
      "text/plain": [
       "'from nltk.stem import WordNetLemmatizer\\nfrom nltk import pos_tag, word_tokenize\\n\\nsentence = \"\\'Fish are nvqjp friends.\\'\"\\ntagged = pos_tag(word_tokenize(sentence))\\n\\nsynsets = [None]*len(sentence)\\nlemmatzr = WordNetLemmatizer()\\n\\nfor token in tagged:\\n\\n    try:\\n        wn_tag = penn_to_wn(token[1])\\n        if not wn_tag:\\n            continue\\n            lemma = lemmatzr.lemmatize(token[0], pos=wn_tag)\\n            synsets.append(wn.synsets(lemma, pos=wn_tag)[0])\\n    except IndexError:\\n        pass\\n\\nprint (synsets)'"
      ]
     },
     "execution_count": 12,
     "metadata": {},
     "output_type": "execute_result"
    }
   ],
   "source": [
    "'''from nltk.stem import WordNetLemmatizer\n",
    "from nltk import pos_tag, word_tokenize\n",
    "\n",
    "sentence = \"'Fish are nvqjp friends.'\"\n",
    "tagged = pos_tag(word_tokenize(sentence))\n",
    "\n",
    "synsets = [None]*len(sentence)\n",
    "lemmatzr = WordNetLemmatizer()\n",
    "\n",
    "for token in tagged:\n",
    "\n",
    "    try:\n",
    "        wn_tag = penn_to_wn(token[1])\n",
    "        if not wn_tag:\n",
    "            continue\n",
    "            lemma = lemmatzr.lemmatize(token[0], pos=wn_tag)\n",
    "            synsets.append(wn.synsets(lemma, pos=wn_tag)[0])\n",
    "    except IndexError:\n",
    "        pass\n",
    "\n",
    "print (synsets)'''"
   ]
  },
  {
   "cell_type": "code",
   "execution_count": 13,
   "metadata": {},
   "outputs": [
    {
     "data": {
      "text/plain": [
       "\"x1 = doc_to_synsets('I like cats')\\nx2 = doc_to_synsets('I like dogs')\\nmnlength = min(len(x1),len(x2))\\nmxlength = max(len(x1),len(x2))\\n\\nsyn_scores = [0]*mnlength\\nfor i in range(mnlength):\\n    temp_scores = [0]*mxlength\\n    for j in range(mxlength):\\n        temp_scores[j] = wn.path_similarity(x1[i], x2[j])\\n        #print(temp_scores[j])\\n    temp_scores = filter(None, temp_scores)\\n    syn_scores[i] = max(temp_scores)\\n\\ntype(np.mean(syn_scores))\""
      ]
     },
     "execution_count": 13,
     "metadata": {},
     "output_type": "execute_result"
    }
   ],
   "source": [
    "#doc_to_synsets()\n",
    "#synsets1 = doc_to_synsets('I like cats')\n",
    "#synsets2 = doc_to_synsets('I like dogs')\n",
    "\n",
    "'''x1 = doc_to_synsets('I like cats')\n",
    "x2 = doc_to_synsets('I like dogs')\n",
    "mnlength = min(len(x1),len(x2))\n",
    "mxlength = max(len(x1),len(x2))\n",
    "\n",
    "syn_scores = [0]*mnlength\n",
    "for i in range(mnlength):\n",
    "    temp_scores = [0]*mxlength\n",
    "    for j in range(mxlength):\n",
    "        temp_scores[j] = wn.path_similarity(x1[i], x2[j])\n",
    "        #print(temp_scores[j])\n",
    "    temp_scores = filter(None, temp_scores)\n",
    "    syn_scores[i] = max(temp_scores)\n",
    "\n",
    "type(np.mean(syn_scores))'''"
   ]
  },
  {
   "cell_type": "markdown",
   "metadata": {},
   "source": [
    "### test_document_path_similarity\n",
    "\n",
    "Use this function to check if doc_to_synsets and similarity_score are correct.\n",
    "\n",
    "*This function should return the similarity score as a float.*"
   ]
  },
  {
   "cell_type": "code",
   "execution_count": 14,
   "metadata": {
    "collapsed": true
   },
   "outputs": [],
   "source": [
    "def test_document_path_similarity():\n",
    "    doc1 = 'This is a function to test document_path_similarity.'\n",
    "    doc2 = 'Use this function to see if your code in doc_to_synsets \\\n",
    "    and similarity_score is correct!'\n",
    "    return document_path_similarity(doc1, doc2)"
   ]
  },
  {
   "cell_type": "code",
   "execution_count": 15,
   "metadata": {},
   "outputs": [
    {
     "data": {
      "text/plain": [
       "0.55706145706145715"
      ]
     },
     "execution_count": 15,
     "metadata": {},
     "output_type": "execute_result"
    }
   ],
   "source": [
    "test_document_path_similarity()"
   ]
  },
  {
   "cell_type": "markdown",
   "metadata": {},
   "source": [
    "<br>\n",
    "___\n",
    "`paraphrases` is a DataFrame which contains the following columns: `Quality`, `D1`, and `D2`.\n",
    "\n",
    "`Quality` is an indicator variable which indicates if the two documents `D1` and `D2` are paraphrases of one another (1 for paraphrase, 0 for not paraphrase)."
   ]
  },
  {
   "cell_type": "code",
   "execution_count": 16,
   "metadata": {},
   "outputs": [
    {
     "data": {
      "text/plain": [
       "'Ms Stewart, the chief executive, was not expected to attend.'"
      ]
     },
     "execution_count": 16,
     "metadata": {},
     "output_type": "execute_result"
    }
   ],
   "source": [
    "# Use this dataframe for questions most_similar_docs and label_accuracy\n",
    "paraphrases = pd.read_csv('paraphrases.csv')\n",
    "paraphrases.head(5)\n",
    "#len(paraphrases)\n",
    "paraphrases.iloc[0,1]"
   ]
  },
  {
   "cell_type": "markdown",
   "metadata": {},
   "source": [
    "___\n",
    "\n",
    "### most_similar_docs\n",
    "\n",
    "Using `document_path_similarity`, find the pair of documents in paraphrases which has the maximum similarity score.\n",
    "\n",
    "*This function should return a tuple `(D1, D2, similarity_score)`*"
   ]
  },
  {
   "cell_type": "code",
   "execution_count": 17,
   "metadata": {},
   "outputs": [
    {
     "data": {
      "text/plain": [
       "'a = [0.1111111111111111, 1.0, 0.25, 0.14285714285714285, 1.0]\\nnp.mean(a) == sum(a)/len(a)'"
      ]
     },
     "execution_count": 17,
     "metadata": {},
     "output_type": "execute_result"
    }
   ],
   "source": [
    "'''a = [0.1111111111111111, 1.0, 0.25, 0.14285714285714285, 1.0]\n",
    "np.mean(a) == sum(a)/len(a)'''"
   ]
  },
  {
   "cell_type": "code",
   "execution_count": 18,
   "metadata": {},
   "outputs": [
    {
     "data": {
      "text/plain": [
       "\"deer = wn.synset('deer.n.01')\\nelk = wn.synset('elk.n.01')\\ndeer.path_similarity(elk)\""
      ]
     },
     "execution_count": 18,
     "metadata": {},
     "output_type": "execute_result"
    }
   ],
   "source": [
    "'''deer = wn.synset('deer.n.01')\n",
    "elk = wn.synset('elk.n.01')\n",
    "deer.path_similarity(elk)'''"
   ]
  },
  {
   "cell_type": "code",
   "execution_count": 19,
   "metadata": {},
   "outputs": [
    {
     "data": {
      "text/plain": [
       "\"doc1 = 'This is a function to test document_path_similarity.'\\ndoc2 = 'Use this function to see if your code in doc_to_synsets and similarity_score is correct!'\\n#D1 = paraphrases.iloc[2,1]\\n#D2 = paraphrases.iloc[2,2]\\n#DS1 = doc_to_synsets(D1)\\n#DS2 = doc_to_synsets(D2)\\nDC1 = doc_to_synsets(doc1)\\nDC2 = doc_to_synsets(doc2)\\n#print(DS1[0],DS2[0])\\n#DS1[0].path_similarity(DS2[0])\""
      ]
     },
     "execution_count": 19,
     "metadata": {},
     "output_type": "execute_result"
    }
   ],
   "source": [
    "'''doc1 = 'This is a function to test document_path_similarity.'\n",
    "doc2 = 'Use this function to see if your code in doc_to_synsets \\\n",
    "and similarity_score is correct!'\n",
    "#D1 = paraphrases.iloc[2,1]\n",
    "#D2 = paraphrases.iloc[2,2]\n",
    "#DS1 = doc_to_synsets(D1)\n",
    "#DS2 = doc_to_synsets(D2)\n",
    "DC1 = doc_to_synsets(doc1)\n",
    "DC2 = doc_to_synsets(doc2)\n",
    "#print(DS1[0],DS2[0])\n",
    "#DS1[0].path_similarity(DS2[0])'''"
   ]
  },
  {
   "cell_type": "code",
   "execution_count": 20,
   "metadata": {},
   "outputs": [
    {
     "data": {
      "text/plain": [
       "'x2 = DC1\\nx1 = DC2\\n\\nsyn_scores = [None]*len(x1)\\nfor i in range(len(x1)):\\n    #print(i)\\n    temp_scores = [None]*len(x2)\\n    for j in range(len(x2)):\\n        #print (i,j)\\n        temp_scores[j] = x1[i].path_similarity(x2[j])\\n        #print(x1[i],x2[j],\":\",temp_scores[j])\\n        #print(temp_scores[j])\\n    #print(temp_scores)\\n    temp_scores = [x for x in temp_scores if x != None]\\n    if len(temp_scores) == 0:\\n        syn_scores[i] = None\\n    else:\\n        syn_scores[i] = max(temp_scores)\\n    print (syn_scores)\\n    #temp_scores = filter(0, temp_scores)\\n    #syn_scores[i] = max(temp_scores)\\nsyn_scores = list(filter(None, syn_scores))\\nprint (\"FINAL:\",syn_scores)\\nnp.mean(syn_scores)'"
      ]
     },
     "execution_count": 20,
     "metadata": {},
     "output_type": "execute_result"
    }
   ],
   "source": [
    "'''x2 = DC1\n",
    "x1 = DC2\n",
    "\n",
    "syn_scores = [None]*len(x1)\n",
    "for i in range(len(x1)):\n",
    "    #print(i)\n",
    "    temp_scores = [None]*len(x2)\n",
    "    for j in range(len(x2)):\n",
    "        #print (i,j)\n",
    "        temp_scores[j] = x1[i].path_similarity(x2[j])\n",
    "        #print(x1[i],x2[j],\":\",temp_scores[j])\n",
    "        #print(temp_scores[j])\n",
    "    #print(temp_scores)\n",
    "    temp_scores = [x for x in temp_scores if x != None]\n",
    "    if len(temp_scores) == 0:\n",
    "        syn_scores[i] = None\n",
    "    else:\n",
    "        syn_scores[i] = max(temp_scores)\n",
    "    print (syn_scores)\n",
    "    #temp_scores = filter(0, temp_scores)\n",
    "    #syn_scores[i] = max(temp_scores)\n",
    "syn_scores = list(filter(None, syn_scores))\n",
    "print (\"FINAL:\",syn_scores)\n",
    "np.mean(syn_scores)'''"
   ]
  },
  {
   "cell_type": "code",
   "execution_count": 21,
   "metadata": {},
   "outputs": [
    {
     "data": {
      "text/plain": [
       "'synsets1 = doc_to_synsets(doc1)\\nsynsets2 = doc_to_synsets(doc2)\\n(similarity_score(synsets1, synsets2) + similarity_score(synsets2, synsets1)) / 2'"
      ]
     },
     "execution_count": 21,
     "metadata": {},
     "output_type": "execute_result"
    }
   ],
   "source": [
    "'''synsets1 = doc_to_synsets(doc1)\n",
    "synsets2 = doc_to_synsets(doc2)\n",
    "(similarity_score(synsets1, synsets2) + similarity_score(synsets2, synsets1)) / 2'''"
   ]
  },
  {
   "cell_type": "code",
   "execution_count": 22,
   "metadata": {},
   "outputs": [
    {
     "data": {
      "text/plain": [
       "\"pp_list = [None]*len(paraphrases)\\nfor i in  range(len(paraphrases)):\\n    #print(i)\\n    sim_score = document_path_similarity(paraphrases.iloc[i,1], paraphrases.iloc[i,2])\\n    pp_list[i] = (paraphrases.iloc[i,1], paraphrases.iloc[i,2], sim_score)\\n\\npp_df = pd.DataFrame(pp_list)\\npp_df.columns = ['D1', 'D2','sim_score']\\npp_df['sim_score'].argmax()\\n#ans = (pp_df.iloc[4,0],pp_df.iloc[4,1],pp_df.iloc[4,2])\\n#ans\\npp_df\""
      ]
     },
     "execution_count": 22,
     "metadata": {},
     "output_type": "execute_result"
    }
   ],
   "source": [
    "'''pp_list = [None]*len(paraphrases)\n",
    "for i in  range(len(paraphrases)):\n",
    "    #print(i)\n",
    "    sim_score = document_path_similarity(paraphrases.iloc[i,1], paraphrases.iloc[i,2])\n",
    "    pp_list[i] = (paraphrases.iloc[i,1], paraphrases.iloc[i,2], sim_score)\n",
    "\n",
    "pp_df = pd.DataFrame(pp_list)\n",
    "pp_df.columns = ['D1', 'D2','sim_score']\n",
    "pp_df['sim_score'].argmax()\n",
    "#ans = (pp_df.iloc[4,0],pp_df.iloc[4,1],pp_df.iloc[4,2])\n",
    "#ans\n",
    "pp_df'''"
   ]
  },
  {
   "cell_type": "code",
   "execution_count": 23,
   "metadata": {
    "collapsed": true
   },
   "outputs": [],
   "source": [
    "def most_similar_docs():\n",
    "    \n",
    "    pp_list = [None]*len(paraphrases)\n",
    "    for i in  range(len(paraphrases)):\n",
    "        #print(i)\n",
    "        sim_score = document_path_similarity(paraphrases.iloc[i,1], paraphrases.iloc[i,2])\n",
    "        pp_list[i] = (paraphrases.iloc[i,1], paraphrases.iloc[i,2], sim_score)\n",
    "\n",
    "    pp_df = pd.DataFrame(pp_list)\n",
    "    pp_df.columns = ['D1', 'D2','sim_score']\n",
    "    x = pp_df['sim_score'].argmax()\n",
    "    ans = (pp_df.iloc[x,0],pp_df.iloc[x,1],pp_df.iloc[x,2])\n",
    "   \n",
    "    return ans"
   ]
  },
  {
   "cell_type": "code",
   "execution_count": 24,
   "metadata": {},
   "outputs": [
    {
     "data": {
      "text/plain": [
       "('\"Indeed, Iran should be put on notice that efforts to try to remake Iraq in their image will be aggressively put down,\" he said.',\n",
       " '\"Iran should be on notice that attempts to remake Iraq in Iran\\'s image will be aggressively put down,\" he said.\\n',\n",
       " 0.96825396825396826)"
      ]
     },
     "execution_count": 24,
     "metadata": {},
     "output_type": "execute_result"
    }
   ],
   "source": [
    "most_similar_docs()"
   ]
  },
  {
   "cell_type": "markdown",
   "metadata": {},
   "source": [
    "### label_accuracy\n",
    "\n",
    "Provide labels for the twenty pairs of documents by computing the similarity for each pair using `document_path_similarity`. Let the classifier rule be that if the score is greater than 0.75, label is paraphrase (1), else label is not paraphrase (0). Report accuracy of the classifier using scikit-learn's accuracy_score.\n",
    "\n",
    "*This function should return a float.*"
   ]
  },
  {
   "cell_type": "code",
   "execution_count": 25,
   "metadata": {},
   "outputs": [
    {
     "name": "stdout",
     "output_type": "stream",
     "text": [
      "[1, 1, 1, 0, 1, 1, 0, 0, 0, 0, 0, 1, 0, 1, 0, 1, 0, 0, 0, 1]\n"
     ]
    }
   ],
   "source": [
    "pp_list = [None]*len(paraphrases)\n",
    "for i in  range(len(paraphrases)):\n",
    "    #print(i)\n",
    "    sim_score = document_path_similarity(paraphrases.iloc[i,1], paraphrases.iloc[i,2])\n",
    "    pp_list[i] = (paraphrases.iloc[i,1], paraphrases.iloc[i,2], sim_score)\n",
    "\n",
    "pp_df = pd.DataFrame(pp_list)\n",
    "pp_df.columns = ['D1', 'D2','sim_score']\n",
    "predicted = pp_df['sim_score']\n",
    "predicted = [1 if x >.75 else 0 for x in predicted]\n",
    "#[ unicode(x.strip()) if x is not None else '' for x in row ]\n",
    "y_pred = predicted\n",
    "y_true = paraphrases['Quality']\n",
    "from sklearn.metrics import accuracy_score\n",
    "accuracy_score(y_true, y_pred)\n",
    "print(y_pred)"
   ]
  },
  {
   "cell_type": "code",
   "execution_count": 26,
   "metadata": {
    "collapsed": true
   },
   "outputs": [],
   "source": [
    "def label_accuracy():\n",
    "    from sklearn.metrics import accuracy_score\n",
    "\n",
    "    pp_list = [None]*len(paraphrases)\n",
    "    for i in  range(len(paraphrases)):\n",
    "        #print(i)\n",
    "        sim_score = document_path_similarity(paraphrases.iloc[i,1], paraphrases.iloc[i,2])\n",
    "        pp_list[i] = (paraphrases.iloc[i,1], paraphrases.iloc[i,2], sim_score)\n",
    "\n",
    "    pp_df = pd.DataFrame(pp_list)\n",
    "    pp_df.columns = ['D1', 'D2','sim_score']\n",
    "    predicted = pp_df['sim_score']\n",
    "    predicted = [1 if x >.75 else 0 for x in predicted]\n",
    "    #[ unicode(x.strip()) if x is not None else '' for x in row ]\n",
    "    y_pred = predicted\n",
    "    y_true = paraphrases['Quality']\n",
    "    omg = accuracy_score(y_true, y_pred)\n",
    "    \n",
    "    return omg"
   ]
  },
  {
   "cell_type": "code",
   "execution_count": 27,
   "metadata": {},
   "outputs": [
    {
     "data": {
      "text/plain": [
       "0.75"
      ]
     },
     "execution_count": 27,
     "metadata": {},
     "output_type": "execute_result"
    }
   ],
   "source": [
    "label_accuracy()"
   ]
  },
  {
   "cell_type": "markdown",
   "metadata": {},
   "source": [
    "## Part 2 - Topic Modelling\n",
    "\n",
    "For the second part of this assignment, you will use Gensim's LDA (Latent Dirichlet Allocation) model to model topics in `newsgroup_data`. You will first need to finish the code in the cell below by using gensim.models.ldamodel.LdaModel constructor to estimate LDA model parameters on the corpus, and save to the variable `ldamodel`. Extract 10 topics using `corpus` and `id_map`, and with `passes=25` and `random_state=34`."
   ]
  },
  {
   "cell_type": "code",
   "execution_count": 28,
   "metadata": {
    "collapsed": true
   },
   "outputs": [],
   "source": [
    "import pickle\n",
    "import gensim\n",
    "from sklearn.feature_extraction.text import CountVectorizer\n",
    "\n",
    "# Load the list of documents\n",
    "with open('newsgroups', 'rb') as f:\n",
    "    newsgroup_data = pickle.load(f)\n",
    "\n",
    "# Use CountVectorizor to find three letter tokens, remove stop_words, \n",
    "# remove tokens that don't appear in at least 20 documents,\n",
    "# remove tokens that appear in more than 20% of the documents\n",
    "vect = CountVectorizer(min_df=20, max_df=0.2, stop_words='english', \n",
    "                       token_pattern='(?u)\\\\b\\\\w\\\\w\\\\w+\\\\b')\n",
    "# Fit and transform\n",
    "X = vect.fit_transform(newsgroup_data)\n",
    "\n",
    "# Convert sparse matrix to gensim corpus.\n",
    "corpus = gensim.matutils.Sparse2Corpus(X, documents_columns=False)\n",
    "\n",
    "# Mapping from word IDs to words (To be used in LdaModel's id2word parameter)\n",
    "id_map = dict((v, k) for k, v in vect.vocabulary_.items())\n"
   ]
  },
  {
   "cell_type": "code",
   "execution_count": 29,
   "metadata": {
    "collapsed": true
   },
   "outputs": [],
   "source": [
    "# Use the gensim.models.ldamodel.LdaModel constructor to estimate \n",
    "# LDA model parameters on the corpus, and save to the variable `ldamodel`\n",
    "\n",
    "# Your code here:\n",
    "ldamodel = gensim.models.ldamodel.LdaModel(corpus, id2word=id_map, num_topics=10, passes=25, random_state=34)"
   ]
  },
  {
   "cell_type": "code",
   "execution_count": 30,
   "metadata": {
    "collapsed": true
   },
   "outputs": [],
   "source": [
    "#from gensim import print_topics\n"
   ]
  },
  {
   "cell_type": "markdown",
   "metadata": {},
   "source": [
    "### lda_topics\n",
    "\n",
    "Using `ldamodel`, find a list of the 10 topics and the most significant 10 words in each topic. This should be structured as a list of 10 tuples where each tuple takes on the form:\n",
    "\n",
    "`(9, '0.068*\"space\" + 0.036*\"nasa\" + 0.021*\"science\" + 0.020*\"edu\" + 0.019*\"data\" + 0.017*\"shuttle\" + 0.015*\"launch\" + 0.015*\"available\" + 0.014*\"center\" + 0.014*\"sci\"')`\n",
    "\n",
    "for example.\n",
    "\n",
    "*This function should return a list of tuples.*"
   ]
  },
  {
   "cell_type": "code",
   "execution_count": 31,
   "metadata": {
    "collapsed": true
   },
   "outputs": [],
   "source": [
    "def lda_topics():\n",
    "    \n",
    "    # Your Code Here\n",
    "    \n",
    "    return ldamodel.print_topics(num_topics = 10, num_words = 10)"
   ]
  },
  {
   "cell_type": "code",
   "execution_count": 32,
   "metadata": {},
   "outputs": [
    {
     "data": {
      "text/plain": [
       "[(0,\n",
       "  '0.056*\"edu\" + 0.043*\"com\" + 0.033*\"thanks\" + 0.022*\"mail\" + 0.021*\"know\" + 0.020*\"does\" + 0.014*\"info\" + 0.012*\"monitor\" + 0.010*\"looking\" + 0.010*\"don\"'),\n",
       " (1,\n",
       "  '0.024*\"ground\" + 0.018*\"current\" + 0.018*\"just\" + 0.013*\"want\" + 0.013*\"use\" + 0.011*\"using\" + 0.011*\"used\" + 0.010*\"power\" + 0.010*\"speed\" + 0.010*\"output\"'),\n",
       " (2,\n",
       "  '0.061*\"drive\" + 0.042*\"disk\" + 0.033*\"scsi\" + 0.030*\"drives\" + 0.028*\"hard\" + 0.028*\"controller\" + 0.027*\"card\" + 0.020*\"rom\" + 0.018*\"floppy\" + 0.017*\"bus\"'),\n",
       " (3,\n",
       "  '0.023*\"time\" + 0.015*\"atheism\" + 0.014*\"list\" + 0.013*\"left\" + 0.012*\"alt\" + 0.012*\"faq\" + 0.012*\"probably\" + 0.011*\"know\" + 0.011*\"send\" + 0.010*\"months\"'),\n",
       " (4,\n",
       "  '0.025*\"car\" + 0.016*\"just\" + 0.014*\"don\" + 0.014*\"bike\" + 0.012*\"good\" + 0.011*\"new\" + 0.011*\"think\" + 0.010*\"year\" + 0.010*\"cars\" + 0.010*\"time\"'),\n",
       " (5,\n",
       "  '0.030*\"game\" + 0.027*\"team\" + 0.023*\"year\" + 0.017*\"games\" + 0.016*\"play\" + 0.012*\"season\" + 0.012*\"players\" + 0.012*\"win\" + 0.011*\"hockey\" + 0.011*\"good\"'),\n",
       " (6,\n",
       "  '0.017*\"information\" + 0.014*\"help\" + 0.014*\"medical\" + 0.012*\"new\" + 0.012*\"use\" + 0.012*\"000\" + 0.012*\"research\" + 0.011*\"university\" + 0.010*\"number\" + 0.010*\"program\"'),\n",
       " (7,\n",
       "  '0.022*\"don\" + 0.021*\"people\" + 0.018*\"think\" + 0.017*\"just\" + 0.012*\"say\" + 0.011*\"know\" + 0.011*\"does\" + 0.011*\"good\" + 0.010*\"god\" + 0.009*\"way\"'),\n",
       " (8,\n",
       "  '0.034*\"use\" + 0.023*\"apple\" + 0.020*\"power\" + 0.016*\"time\" + 0.015*\"data\" + 0.015*\"software\" + 0.012*\"pin\" + 0.012*\"memory\" + 0.012*\"simms\" + 0.012*\"port\"'),\n",
       " (9,\n",
       "  '0.068*\"space\" + 0.036*\"nasa\" + 0.021*\"science\" + 0.020*\"edu\" + 0.019*\"data\" + 0.017*\"shuttle\" + 0.015*\"launch\" + 0.015*\"available\" + 0.014*\"center\" + 0.014*\"sci\"')]"
      ]
     },
     "execution_count": 32,
     "metadata": {},
     "output_type": "execute_result"
    }
   ],
   "source": [
    "lda_topics()"
   ]
  },
  {
   "cell_type": "markdown",
   "metadata": {},
   "source": [
    "### topic_distribution\n",
    "\n",
    "For the new document `new_doc`, find the topic distribution. Remember to use vect.transform on the the new doc, and Sparse2Corpus to convert the sparse matrix to gensim corpus.\n",
    "\n",
    "*This function should return a list of tuples, where each tuple is `(#topic, probability)`*"
   ]
  },
  {
   "cell_type": "code",
   "execution_count": 33,
   "metadata": {
    "collapsed": true
   },
   "outputs": [],
   "source": [
    "new_doc = [\"\\n\\nIt's my understanding that the freezing will start to occur because \\\n",
    "of the\\ngrowing distance of Pluto and Charon from the Sun, due to it's\\nelliptical orbit. \\\n",
    "It is not due to shadowing effects. \\n\\n\\nPluto can shadow Charon, and vice-versa.\\n\\nGeorge \\\n",
    "Krumins\\n-- \"]"
   ]
  },
  {
   "cell_type": "code",
   "execution_count": 58,
   "metadata": {},
   "outputs": [
    {
     "name": "stdout",
     "output_type": "stream",
     "text": [
      "False\n"
     ]
    },
    {
     "data": {
      "text/plain": [
       "[(0, 0.15937947493053653),\n",
       " (1, 0.0047637338927391066),\n",
       " (2, 0.0047625021838596463),\n",
       " (3, 0.0047621723486367144),\n",
       " (4, 0.0047626662877813825),\n",
       " (5, 0.004764893956661311),\n",
       " (6, 0.80251613979454839),\n",
       " (7, 0.0047633068918455012),\n",
       " (8, 0.0047626206888141251),\n",
       " (9, 0.0047624890245773158)]"
      ]
     },
     "execution_count": 58,
     "metadata": {},
     "output_type": "execute_result"
    }
   ],
   "source": [
    "yvect = CountVectorizer(stop_words='english', token_pattern='(?u)\\\\b\\\\w\\\\w\\\\w+\\\\b')\n",
    "Y = yvect.fit_transform(new_doc)\n",
    "ycorpus = gensim.matutils.Sparse2Corpus(Y, documents_columns=False)\n",
    "doc_lda = ldamodel[ycorpus]\n",
    "print(list(ldamodel.get_document_topics(ycorpus, minimum_probability=0)) == list(doc_lda))\n",
    "list(doc_lda)[0]"
   ]
  },
  {
   "cell_type": "code",
   "execution_count": 53,
   "metadata": {
    "collapsed": true
   },
   "outputs": [],
   "source": [
    "def topic_distribution():\n",
    "    \n",
    "    yvect = CountVectorizer(stop_words='english', \n",
    "                           token_pattern='(?u)\\\\b\\\\w\\\\w\\\\w+\\\\b')\n",
    "    Y = yvect.fit_transform(new_doc)\n",
    "    ycorpus = gensim.matutils.Sparse2Corpus(Y, documents_columns=False)\n",
    "    doc_lda = ldamodel[ycorpus]\n",
    "    list(ldamodel.get_document_topics(ycorpus))\n",
    "    #doc_lda = ldamodel[ycorpus]\n",
    "    \n",
    "    return list(ldamodel.get_document_topics(ycorpus, minimum_probability=0))[0]"
   ]
  },
  {
   "cell_type": "code",
   "execution_count": 54,
   "metadata": {},
   "outputs": [
    {
     "data": {
      "text/plain": [
       "[(0, 0.15940167658429105),\n",
       " (1, 0.0047637337083774878),\n",
       " (2, 0.004762502043672498),\n",
       " (3, 0.0047621723065000192),\n",
       " (4, 0.004762666227396733),\n",
       " (5, 0.0047646872598276551),\n",
       " (6, 0.80249414549839104),\n",
       " (7, 0.0047633068104143078),\n",
       " (8, 0.0047626205485930932),\n",
       " (9, 0.0047624890125359948)]"
      ]
     },
     "execution_count": 54,
     "metadata": {},
     "output_type": "execute_result"
    }
   ],
   "source": [
    "topic_distribution()"
   ]
  },
  {
   "cell_type": "markdown",
   "metadata": {},
   "source": [
    "### topic_names\n",
    "\n",
    "From the list of the following given topics, assign topic names to the topics you found. If none of these names best matches the topics you found, create a new 1-3 word \"title\" for the topic.\n",
    "\n",
    "Topics: Health, Science, Automobiles, Politics, Government, Travel, Computers & IT, Sports, Business, Society & Lifestyle, Religion, Education.\n",
    "\n",
    "*This function should return a list of 10 strings.*"
   ]
  },
  {
   "cell_type": "code",
   "execution_count": 55,
   "metadata": {
    "collapsed": true
   },
   "outputs": [],
   "source": [
    "def topic_names():\n",
    "    \n",
    "    # Your Code Here\n",
    "    \n",
    "    return ['Education', 'Electricity', 'Computer Science', 'Religion', 'Travel', 'Sports', 'Health', 'Thoughts', 'Computers & IT', 'Space']"
   ]
  },
  {
   "cell_type": "code",
   "execution_count": 38,
   "metadata": {},
   "outputs": [
    {
     "data": {
      "text/plain": [
       "10"
      ]
     },
     "execution_count": 38,
     "metadata": {},
     "output_type": "execute_result"
    }
   ],
   "source": [
    "len(topic_names())"
   ]
  },
  {
   "cell_type": "code",
   "execution_count": null,
   "metadata": {
    "collapsed": true
   },
   "outputs": [],
   "source": []
  }
 ],
 "metadata": {
  "coursera": {
   "course_slug": "python-text-mining",
   "graded_item_id": "2qbcK",
   "launcher_item_id": "pi9Sh",
   "part_id": "kQiwX"
  },
  "kernelspec": {
   "display_name": "Python 3",
   "language": "python",
   "name": "python3"
  },
  "language_info": {
   "codemirror_mode": {
    "name": "ipython",
    "version": 3
   },
   "file_extension": ".py",
   "mimetype": "text/x-python",
   "name": "python",
   "nbconvert_exporter": "python",
   "pygments_lexer": "ipython3",
   "version": "3.6.2"
  }
 },
 "nbformat": 4,
 "nbformat_minor": 2
}
