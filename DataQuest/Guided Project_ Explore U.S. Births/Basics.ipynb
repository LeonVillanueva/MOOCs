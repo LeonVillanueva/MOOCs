{
 "cells": [
  {
   "cell_type": "code",
   "execution_count": 2,
   "metadata": {
    "collapsed": false
   },
   "outputs": [
    {
     "name": "stdout",
     "output_type": "stream",
     "text": [
      "['year,month,date_of_month,day_of_week,births', '1994,1,1,6,8096', '1994,1,2,7,7772', '1994,1,3,1,10142', '1994,1,4,2,11248']\n"
     ]
    }
   ],
   "source": [
    "f = open ('US_births_1994-2003_CDC_NCHS.csv', 'r')\n",
    "file = f.read ()\n",
    "a_table = file.split ('\\n')\n",
    "print(a_table[:5])"
   ]
  },
  {
   "cell_type": "code",
   "execution_count": 5,
   "metadata": {
    "collapsed": true
   },
   "outputs": [],
   "source": [
    "def read_csv (input_csv):\n",
    "    f = open (input_csv, 'r')\n",
    "    file = f.read ()\n",
    "    a_table = file.split ('\\n')\n",
    "    final_list = []\n",
    "    for x in a_table[1:]:\n",
    "        y = x.split(',')\n",
    "        y = list (map (int, y))\n",
    "        final_list.append(y)\n",
    "    return final_list"
   ]
  },
  {
   "cell_type": "code",
   "execution_count": 6,
   "metadata": {
    "collapsed": false
   },
   "outputs": [
    {
     "name": "stdout",
     "output_type": "stream",
     "text": [
      "[[1994, 1, 1, 6, 8096], [1994, 1, 2, 7, 7772], [1994, 1, 3, 1, 10142], [1994, 1, 4, 2, 11248], [1994, 1, 5, 3, 11053]]\n"
     ]
    }
   ],
   "source": [
    "new_table = read_csv('US_births_1994-2003_CDC_NCHS.csv')\n",
    "print (new_table[:5])"
   ]
  },
  {
   "cell_type": "code",
   "execution_count": 9,
   "metadata": {
    "collapsed": true
   },
   "outputs": [],
   "source": [
    "def month_births (input_lst):\n",
    "    # = {}\n",
    "    month_list = []\n",
    "    for i in input_lst:\n",
    "        month_list.append(i[3])\n",
    "    u_month_list = sorted (set (month_list))\n",
    "    month_count = []\n",
    "    for j in u_month_list:\n",
    "        month_count.append (month_list.count (j))\n",
    "    births_per_month = dict (zip (u_month_list, month_count))\n",
    "    return births_per_month"
   ]
  },
  {
   "cell_type": "code",
   "execution_count": 11,
   "metadata": {
    "collapsed": false
   },
   "outputs": [],
   "source": [
    "cdc_month_births = month_births (new_table)"
   ]
  },
  {
   "cell_type": "code",
   "execution_count": 12,
   "metadata": {
    "collapsed": true
   },
   "outputs": [],
   "source": [
    "def dow_births (input_lst):\n",
    "    # = {}\n",
    "    dow_list = []\n",
    "    for i in input_lst:\n",
    "        dow_list.append(i[1])\n",
    "    u_dow_list = sorted (set (dow_list))\n",
    "    dow_count = []\n",
    "    for j in u_dow_list:\n",
    "        dow_count.append (dow_list.count (j))\n",
    "    births_per_dow = dict (zip (u_dow_list, dow_count))\n",
    "    return births_per_dow\n",
    "cdc_day_births = dow_births (new_table)"
   ]
  },
  {
   "cell_type": "code",
   "execution_count": 24,
   "metadata": {
    "collapsed": false
   },
   "outputs": [],
   "source": [
    "def calc_counts (input_lst, column):\n",
    "    calc_list = []\n",
    "    for i in input_lst:\n",
    "        calc_list.append(i[column])\n",
    "    u_calc_list = sorted (set (calc_list), reverse=True)\n",
    "    calc_count = []\n",
    "    for j in u_calc_list:\n",
    "        calc_count.append (calc_list.count (j))\n",
    "    births_per_calc = dict (zip (u_calc_list, calc_count))\n",
    "    return births_per_calc\n",
    "    "
   ]
  },
  {
   "cell_type": "code",
   "execution_count": 25,
   "metadata": {
    "collapsed": true
   },
   "outputs": [],
   "source": [
    "cdc_year_births = calc_counts (new_table, 0)\n",
    "cdc_month_births = calc_counts (new_table, 1)\n",
    "cdc_dom_births = calc_counts (new_table, 2)\n",
    "cdc_dow_births = calc_counts (new_table, 3)"
   ]
  },
  {
   "cell_type": "code",
   "execution_count": 26,
   "metadata": {
    "collapsed": false
   },
   "outputs": [
    {
     "data": {
      "text/plain": [
       "(522, 521)"
      ]
     },
     "execution_count": 26,
     "metadata": {},
     "output_type": "execute_result"
    }
   ],
   "source": [
    "def minmax_d (input_dic):\n",
    "    max_d = max (list (input_dic.values ()))\n",
    "    min_d = min (list (input_dic.values ()))\n",
    "    return (max_d, min_d)\n",
    "minmax_d (cdc_dow_births)"
   ]
  },
  {
   "cell_type": "code",
   "execution_count": 27,
   "metadata": {
    "collapsed": false
   },
   "outputs": [
    {
     "name": "stdout",
     "output_type": "stream",
     "text": [
      "2001\n",
      "2002\n",
      "2003\n",
      "1994\n",
      "1995\n",
      "1996\n",
      "1997\n",
      "1998\n",
      "1999\n"
     ]
    }
   ],
   "source": [
    "def changes (input_dic):\n",
    "    dates = list (input_dic.keys ())\n",
    "    amounts = list (input_dic.keys ())\n",
    "    for n in amounts[1:]:\n",
    "        print (n)\n",
    "        \n",
    "changes (cdc_year_births)    "
   ]
  },
  {
   "cell_type": "code",
   "execution_count": null,
   "metadata": {
    "collapsed": true
   },
   "outputs": [],
   "source": []
  }
 ],
 "metadata": {
  "anaconda-cloud": {},
  "kernelspec": {
   "display_name": "Python 3",
   "language": "python",
   "name": "python3"
  },
  "language_info": {
   "codemirror_mode": {
    "name": "ipython",
    "version": 3
   },
   "file_extension": ".py",
   "mimetype": "text/x-python",
   "name": "python",
   "nbconvert_exporter": "python",
   "pygments_lexer": "ipython3",
   "version": "3.4.3"
  }
 },
 "nbformat": 4,
 "nbformat_minor": 1
}
