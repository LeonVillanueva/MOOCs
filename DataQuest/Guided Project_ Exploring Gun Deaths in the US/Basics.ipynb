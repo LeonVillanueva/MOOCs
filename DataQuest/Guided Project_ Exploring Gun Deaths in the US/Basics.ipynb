{
 "cells": [
  {
   "cell_type": "code",
   "execution_count": 1,
   "metadata": {
    "collapsed": false
   },
   "outputs": [],
   "source": [
    "import csv\n",
    "f = open ('guns.csv', 'r')\n",
    "data = list (csv.reader (f))\n",
    "\n",
    "#data[:5]"
   ]
  },
  {
   "cell_type": "code",
   "execution_count": 2,
   "metadata": {
    "collapsed": false
   },
   "outputs": [
    {
     "data": {
      "text/plain": [
       "['',\n",
       " 'year',\n",
       " 'month',\n",
       " 'intent',\n",
       " 'police',\n",
       " 'sex',\n",
       " 'age',\n",
       " 'race',\n",
       " 'hispanic',\n",
       " 'place',\n",
       " 'education']"
      ]
     },
     "execution_count": 2,
     "metadata": {},
     "output_type": "execute_result"
    }
   ],
   "source": [
    "headers = data [0]\n",
    "data = data [1:]\n",
    "\n",
    "headers\n",
    "#data[:5]"
   ]
  },
  {
   "cell_type": "code",
   "execution_count": 3,
   "metadata": {
    "collapsed": false
   },
   "outputs": [
    {
     "data": {
      "text/plain": [
       "{'2012': 33563, '2013': 33636, '2014': 33599}"
      ]
     },
     "execution_count": 3,
     "metadata": {},
     "output_type": "execute_result"
    }
   ],
   "source": [
    "hix = headers.index ('year')\n",
    "years = []\n",
    "\n",
    "for i in data:\n",
    "    years.append (i[hix])\n",
    "\n",
    "year_counts ={}\n",
    "\n",
    "u_years = sorted (set (years))\n",
    "\n",
    "for i in u_years:\n",
    "    year_counts [i] = years.count (i)\n",
    "\n",
    "year_counts"
   ]
  },
  {
   "cell_type": "code",
   "execution_count": 4,
   "metadata": {
    "collapsed": true
   },
   "outputs": [],
   "source": [
    "import datetime as dt"
   ]
  },
  {
   "cell_type": "code",
   "execution_count": 5,
   "metadata": {
    "collapsed": false
   },
   "outputs": [],
   "source": [
    "ix_year = headers.index ('year')\n",
    "ix_month = headers.index ('month')\n",
    "\n",
    "dates = []\n",
    "for i in data:\n",
    "    year = int (i [ix_year])\n",
    "    month = int (i [ix_month])\n",
    "    dates.append (dt.datetime (year = year, month = month, day = 1))\n",
    "    \n",
    "#dates [:5]"
   ]
  },
  {
   "cell_type": "code",
   "execution_count": 6,
   "metadata": {
    "collapsed": false
   },
   "outputs": [],
   "source": [
    "u_dates = sorted (set (dates))\n",
    "\n",
    "date_counts = {}\n",
    "\n",
    "for i in u_dates:\n",
    "    date_counts [i] = dates.count (i)\n",
    "\n",
    "#date_counts"
   ]
  },
  {
   "cell_type": "code",
   "execution_count": 7,
   "metadata": {
    "collapsed": false
   },
   "outputs": [],
   "source": [
    "ix_sex = headers.index ('sex')\n",
    "col_sex = []\n",
    "\n",
    "sex_counts = {}\n",
    "\n",
    "for i in data:\n",
    "    col_sex.append (i [ix_sex])\n",
    "for j in sorted (set (col_sex)):\n",
    "    sex_counts [j] = col_sex.count (j)\n",
    "\n",
    "#print (sex_counts)"
   ]
  },
  {
   "cell_type": "code",
   "execution_count": 8,
   "metadata": {
    "collapsed": false
   },
   "outputs": [
    {
     "name": "stdout",
     "output_type": "stream",
     "text": [
      "{'Black': 23296, 'Hispanic': 9022, 'Asian/Pacific Islander': 1326, 'White': 66237, 'Native American/Native Alaskan': 917}\n"
     ]
    }
   ],
   "source": [
    "ix_race = headers.index ('race')\n",
    "col_race = []\n",
    "\n",
    "race_counts = {}\n",
    "\n",
    "for i in data:\n",
    "    col_race.append (i [ix_race])\n",
    "    temp = sorted (set (col_race))\n",
    "for j in temp:\n",
    "    race_counts [j] = col_race.count (j)\n",
    "\n",
    "print (race_counts)"
   ]
  },
  {
   "cell_type": "code",
   "execution_count": 11,
   "metadata": {
    "collapsed": false
   },
   "outputs": [
    {
     "name": "stdout",
     "output_type": "stream",
     "text": [
      "['Id', 'Year', 'Id', 'Sex', 'Id', 'Hispanic Origin', 'Id', 'Id2', 'Geography', 'Total', 'White', 'Hispanic', 'Black or African American', 'American Indian and Alaska Native', 'Asian', 'Native Hawaiian and Other Pacific Islander', 'Two or More Races']\n"
     ]
    }
   ],
   "source": [
    "import re\n",
    "f = open ('census.csv', 'r')\n",
    "census = list (csv.reader (f))\n",
    "census_header = census [0]\n",
    "census_data = census [1]\n",
    "census_header02 = []\n",
    "for i in census_header:\n",
    "    census_header02.append (re.sub ('Race Alone - ','',i))\n",
    "\n",
    "print (census_header02)"
   ]
  },
  {
   "cell_type": "code",
   "execution_count": 10,
   "metadata": {
    "collapsed": true
   },
   "outputs": [],
   "source": [
    "cat_race = sorted (list (race_counts.keys ()))"
   ]
  },
  {
   "cell_type": "code",
   "execution_count": 17,
   "metadata": {
    "collapsed": false
   },
   "outputs": [],
   "source": [
    "pop_race = []\n",
    "\n",
    "pop_race.append (int (census_data [census_header02.index('Asian')]) + int (census_data [census_header02.index('Native Hawaiian and Other Pacific Islander')]))\n",
    "pop_race.append (int (census_data [census_header02.index('Black or African American')]))\n",
    "pop_race.append (int (census_data [census_header02.index('Hispanic')]))\n",
    "pop_race.append (int (census_data [census_header02.index('American Indian and Alaska Native')]))\n",
    "pop_race.append (int (census_data [census_header02.index('White')]))"
   ]
  },
  {
   "cell_type": "code",
   "execution_count": 21,
   "metadata": {
    "collapsed": false
   },
   "outputs": [
    {
     "data": {
      "text/plain": [
       "{'Asian/Pacific Islander': 1326,\n",
       " 'Black': 23296,\n",
       " 'Hispanic': 9022,\n",
       " 'Native American/Native Alaskan': 917,\n",
       " 'White': 66237}"
      ]
     },
     "execution_count": 21,
     "metadata": {},
     "output_type": "execute_result"
    }
   ],
   "source": [
    "pop_per = dict (zip (cat_race, pop_race))\n",
    "race_counts"
   ]
  },
  {
   "cell_type": "code",
   "execution_count": 23,
   "metadata": {
    "collapsed": false
   },
   "outputs": [
    {
     "name": "stdout",
     "output_type": "stream",
     "text": [
      "{'Black': 57.8773477735196, 'Hispanic': 20.220491210910907, 'Asian/Pacific Islander': 8.374309664161762, 'White': 33.56849303419181, 'Native American/Native Alaskan': 24.521955573811088}\n"
     ]
    }
   ],
   "source": [
    "race_per_hundredk = {}\n",
    "for i in list ( race_counts.keys ()):\n",
    "    race_per_hundredk [i] = race_counts [i] / pop_per [i] * 100000\n",
    "\n",
    "print (race_per_hundredk)"
   ]
  },
  {
   "cell_type": "code",
   "execution_count": 31,
   "metadata": {
    "collapsed": false
   },
   "outputs": [],
   "source": [
    "intents = list (x[3] for x in data)\n",
    "races = list (x[7] for x in data)"
   ]
  },
  {
   "cell_type": "code",
   "execution_count": 53,
   "metadata": {
    "collapsed": true
   },
   "outputs": [],
   "source": [
    "homicide_race_counts = {}"
   ]
  },
  {
   "cell_type": "code",
   "execution_count": 55,
   "metadata": {
    "collapsed": false
   },
   "outputs": [
    {
     "data": {
      "text/plain": [
       "{'Asian/Pacific Islander': 559,\n",
       " 'Black': 19510,\n",
       " 'Hispanic': 5634,\n",
       " 'Native American/Native Alaskan': 326,\n",
       " 'White': 9147}"
      ]
     },
     "execution_count": 55,
     "metadata": {},
     "output_type": "execute_result"
    }
   ],
   "source": [
    "for i, k in enumerate (races):\n",
    "    if intents [i] == 'Homicide':\n",
    "        #print (k)\n",
    "        homicide_race_counts[k] = homicide_race_counts.get(k, 0) + 1\n",
    "        #how elegant\n",
    "        #if homicide_race_counts [k] is None:\n",
    "        #    homicide_race_counts [k] = 0\n",
    "        #else:\n",
    "        #    homicide_race_counts [k] += 1\n",
    "        \n",
    "homicide_race_counts\n"
   ]
  },
  {
   "cell_type": "code",
   "execution_count": 57,
   "metadata": {
    "collapsed": false
   },
   "outputs": [
    {
     "data": {
      "text/plain": [
       "{'Asian/Pacific Islander': 0.022295786244231088,\n",
       " 'Black': 0.12042365291176386,\n",
       " 'Hispanic': 0.028300532046844913,\n",
       " 'Native American/Native Alaskan': 0.23312515145691343,\n",
       " 'White': 0.002349313969685373}"
      ]
     },
     "execution_count": 57,
     "metadata": {},
     "output_type": "execute_result"
    }
   ],
   "source": [
    "homicide_race_per100k = {}\n",
    "for i in list ( homicide_race_counts.keys ()):\n",
    "    homicide_race_per100k [i] = homicide_race_counts [i] / pop_per [i] * 100000\n",
    "\n",
    "homicide_race_per100k"
   ]
  },
  {
   "cell_type": "code",
   "execution_count": null,
   "metadata": {
    "collapsed": true
   },
   "outputs": [],
   "source": []
  }
 ],
 "metadata": {
  "kernelspec": {
   "display_name": "Python 3",
   "language": "python",
   "name": "python3"
  },
  "language_info": {
   "codemirror_mode": {
    "name": "ipython",
    "version": 3
   },
   "file_extension": ".py",
   "mimetype": "text/x-python",
   "name": "python",
   "nbconvert_exporter": "python",
   "pygments_lexer": "ipython3",
   "version": "3.4.3"
  }
 },
 "nbformat": 4,
 "nbformat_minor": 0
}
