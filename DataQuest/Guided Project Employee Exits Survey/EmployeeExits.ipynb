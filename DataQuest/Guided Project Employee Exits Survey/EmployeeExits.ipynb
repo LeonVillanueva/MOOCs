{
 "cells": [
  {
   "cell_type": "markdown",
   "metadata": {},
   "source": [
    "# Employee Exit Surveys"
   ]
  },
  {
   "cell_type": "code",
   "execution_count": 1,
   "metadata": {
    "collapsed": true
   },
   "outputs": [],
   "source": [
    "import pandas as pd\n",
    "import numpy as np"
   ]
  },
  {
   "cell_type": "code",
   "execution_count": 2,
   "metadata": {
    "collapsed": false
   },
   "outputs": [],
   "source": [
    "dete_survey = pd.read_csv ('dete_survey.csv', na_values='Not Stated')\n",
    "tafe_survey = pd.read_csv('tafe_survey.csv')"
   ]
  },
  {
   "cell_type": "markdown",
   "metadata": {},
   "source": [
    "### Initial Observation"
   ]
  },
  {
   "cell_type": "code",
   "execution_count": 3,
   "metadata": {
    "collapsed": false
   },
   "outputs": [],
   "source": [
    "#dete_survey.info()"
   ]
  },
  {
   "cell_type": "code",
   "execution_count": 4,
   "metadata": {
    "collapsed": false
   },
   "outputs": [],
   "source": [
    "#tafe_survey.info()"
   ]
  },
  {
   "cell_type": "code",
   "execution_count": 5,
   "metadata": {
    "collapsed": false
   },
   "outputs": [],
   "source": [
    "#dete_survey.isnull().sum(axis=0)"
   ]
  },
  {
   "cell_type": "code",
   "execution_count": 6,
   "metadata": {
    "collapsed": false
   },
   "outputs": [],
   "source": [
    "dete_survey_updated = dete_survey.drop (list(dete_survey.columns[28:49]), axis=1)\n",
    "tafe_survey_updated = tafe_survey.drop (list(tafe_survey.columns[17:66]), axis=1)"
   ]
  },
  {
   "cell_type": "code",
   "execution_count": 7,
   "metadata": {
    "collapsed": false
   },
   "outputs": [],
   "source": [
    "dete_survey_updated.columns = [x.lower().strip().replace(' ','_') for x in list (dete_survey_updated.columns)]"
   ]
  },
  {
   "cell_type": "code",
   "execution_count": 8,
   "metadata": {
    "collapsed": true
   },
   "outputs": [],
   "source": [
    "tafe_renames = {'Record ID': 'id',\n",
    "'CESSATION YEAR': 'cease_date',\n",
    "'Reason for ceasing employment': 'separationtype',\n",
    "'Gender. What is your Gender?': 'gender',\n",
    "'CurrentAge. Current Age': 'age',\n",
    "'Employment Type. Employment Type': 'employment_status',\n",
    "'Classification. Classification': 'position',\n",
    "'LengthofServiceOverall. Overall Length of Service at Institute (in years)': 'institute_service',\n",
    "'LengthofServiceCurrent. Length of Service at current workplace (in years)': 'role_service'}"
   ]
  },
  {
   "cell_type": "code",
   "execution_count": 9,
   "metadata": {
    "collapsed": false
   },
   "outputs": [],
   "source": [
    "tafe_survey_updated.rename(columns=tafe_renames, inplace=True)"
   ]
  },
  {
   "cell_type": "code",
   "execution_count": 10,
   "metadata": {
    "collapsed": false
   },
   "outputs": [],
   "source": [
    "#tafe_survey_updated.columns"
   ]
  },
  {
   "cell_type": "code",
   "execution_count": 11,
   "metadata": {
    "collapsed": false
   },
   "outputs": [
    {
     "data": {
      "text/plain": [
       "Age Retirement                          285\n",
       "Resignation-Other reasons               150\n",
       "Resignation-Other employer               91\n",
       "Resignation-Move overseas/interstate     70\n",
       "Voluntary Early Retirement (VER)         67\n",
       "Ill Health Retirement                    61\n",
       "Other                                    49\n",
       "Contract Expired                         34\n",
       "Termination                              15\n",
       "Name: separationtype, dtype: int64"
      ]
     },
     "execution_count": 11,
     "metadata": {},
     "output_type": "execute_result"
    }
   ],
   "source": [
    "dete_survey_updated['separationtype'].value_counts()"
   ]
  },
  {
   "cell_type": "code",
   "execution_count": 12,
   "metadata": {
    "collapsed": false
   },
   "outputs": [
    {
     "data": {
      "text/plain": [
       "Resignation                 340\n",
       "Contract Expired            127\n",
       "Retrenchment/ Redundancy    104\n",
       "Retirement                   82\n",
       "Transfer                     25\n",
       "Termination                  23\n",
       "Name: separationtype, dtype: int64"
      ]
     },
     "execution_count": 12,
     "metadata": {},
     "output_type": "execute_result"
    }
   ],
   "source": [
    "tafe_survey_updated['separationtype'].value_counts()"
   ]
  },
  {
   "cell_type": "code",
   "execution_count": 13,
   "metadata": {
    "collapsed": false
   },
   "outputs": [],
   "source": [
    "tafe_resignations = tafe_survey_updated [tafe_survey_updated['separationtype'] == 'Resignation']"
   ]
  },
  {
   "cell_type": "code",
   "execution_count": 14,
   "metadata": {
    "collapsed": false
   },
   "outputs": [],
   "source": [
    "dete_resignations =  dete_survey_updated [dete_survey_updated['separationtype'].str.match('Resignation')]"
   ]
  },
  {
   "cell_type": "code",
   "execution_count": 15,
   "metadata": {
    "collapsed": false
   },
   "outputs": [
    {
     "name": "stderr",
     "output_type": "stream",
     "text": [
      "/dataquest/system/env/python3/lib/python3.4/site-packages/ipykernel/__main__.py:3: SettingWithCopyWarning: \n",
      "A value is trying to be set on a copy of a slice from a DataFrame.\n",
      "Try using .loc[row_indexer,col_indexer] = value instead\n",
      "\n",
      "See the caveats in the documentation: http://pandas.pydata.org/pandas-docs/stable/indexing.html#indexing-view-versus-copy\n",
      "  app.launch_new_instance()\n",
      "/dataquest/system/env/python3/lib/python3.4/site-packages/ipykernel/__main__.py:4: SettingWithCopyWarning: \n",
      "A value is trying to be set on a copy of a slice from a DataFrame.\n",
      "Try using .loc[row_indexer,col_indexer] = value instead\n",
      "\n",
      "See the caveats in the documentation: http://pandas.pydata.org/pandas-docs/stable/indexing.html#indexing-view-versus-copy\n"
     ]
    }
   ],
   "source": [
    "year = list (dete_resignations['cease_date'])\n",
    "year = [str(y)[-4:] for y in year if y != 'nan']\n",
    "dete_resignations['year'] = np.array (year)\n",
    "dete_resignations['year'] = dete_resignations['year'].astype ('float')"
   ]
  },
  {
   "cell_type": "code",
   "execution_count": 16,
   "metadata": {
    "collapsed": false
   },
   "outputs": [
    {
     "name": "stderr",
     "output_type": "stream",
     "text": [
      "/dataquest/system/env/python3/lib/python3.4/site-packages/ipykernel/__main__.py:1: SettingWithCopyWarning: \n",
      "A value is trying to be set on a copy of a slice from a DataFrame.\n",
      "Try using .loc[row_indexer,col_indexer] = value instead\n",
      "\n",
      "See the caveats in the documentation: http://pandas.pydata.org/pandas-docs/stable/indexing.html#indexing-view-versus-copy\n",
      "  if __name__ == '__main__':\n"
     ]
    }
   ],
   "source": [
    "tafe_resignations['year'] = tafe_resignations['cease_date']\n",
    "# tafe_resignations['year'] = tafe_resignations['year'].astype ('float')"
   ]
  },
  {
   "cell_type": "code",
   "execution_count": 17,
   "metadata": {
    "collapsed": false
   },
   "outputs": [
    {
     "data": {
      "text/plain": [
       "2013.0    146\n",
       "2012.0    129\n",
       "2014.0     22\n",
       "2010.0      2\n",
       "2006.0      1\n",
       "Name: year, dtype: int64"
      ]
     },
     "execution_count": 17,
     "metadata": {},
     "output_type": "execute_result"
    }
   ],
   "source": [
    "dete_resignations['year'].value_counts()"
   ]
  },
  {
   "cell_type": "code",
   "execution_count": 18,
   "metadata": {
    "collapsed": false
   },
   "outputs": [
    {
     "data": {
      "text/plain": [
       "2011.0    116\n",
       "2012.0     94\n",
       "2010.0     68\n",
       "2013.0     55\n",
       "2009.0      2\n",
       "Name: year, dtype: int64"
      ]
     },
     "execution_count": 18,
     "metadata": {},
     "output_type": "execute_result"
    }
   ],
   "source": [
    "tafe_resignations['year'].value_counts()"
   ]
  },
  {
   "cell_type": "code",
   "execution_count": 19,
   "metadata": {
    "collapsed": false
   },
   "outputs": [
    {
     "data": {
      "text/plain": [
       "<matplotlib.axes._subplots.AxesSubplot at 0x7ff5996030b8>"
      ]
     },
     "execution_count": 19,
     "metadata": {},
     "output_type": "execute_result"
    },
    {
     "data": {
      "image/png": "[encoded data removed]",
      "text/plain": [
       "<matplotlib.figure.Figure at 0x7ff59cde34a8>"
      ]
     },
     "metadata": {},
     "output_type": "display_data"
    }
   ],
   "source": [
    "%matplotlib inline\n",
    "import matplotlib.pyplot as plt\n",
    "dete_resignations.boxplot(column=['year'])\n",
    "tafe_resignations.boxplot(column=['year'])"
   ]
  },
  {
   "cell_type": "markdown",
   "metadata": {},
   "source": [
    "### Secondary Observation\n",
    "\n",
    "1. Years fixed, for checking range of employment\n",
    "2. Need to combine and do analysis"
   ]
  },
  {
   "cell_type": "code",
   "execution_count": 20,
   "metadata": {
    "collapsed": false
   },
   "outputs": [
    {
     "name": "stderr",
     "output_type": "stream",
     "text": [
      "/dataquest/system/env/python3/lib/python3.4/site-packages/ipykernel/__main__.py:1: SettingWithCopyWarning: \n",
      "A value is trying to be set on a copy of a slice from a DataFrame.\n",
      "Try using .loc[row_indexer,col_indexer] = value instead\n",
      "\n",
      "See the caveats in the documentation: http://pandas.pydata.org/pandas-docs/stable/indexing.html#indexing-view-versus-copy\n",
      "  if __name__ == '__main__':\n"
     ]
    }
   ],
   "source": [
    "dete_resignations['institute_service'] = dete_resignations['dete_start_date'] - dete_resignations['year']"
   ]
  },
  {
   "cell_type": "code",
   "execution_count": 21,
   "metadata": {
    "collapsed": false
   },
   "outputs": [],
   "source": [
    "dete_resignations.reset_index (inplace=True)\n",
    "tafe_resignations.reset_index (inplace=True)"
   ]
  },
  {
   "cell_type": "code",
   "execution_count": 22,
   "metadata": {
    "collapsed": false
   },
   "outputs": [
    {
     "data": {
      "text/plain": [
       "-                                         277\n",
       "Contributing Factors. Dissatisfaction      55\n",
       "Name: Contributing Factors. Dissatisfaction, dtype: int64"
      ]
     },
     "execution_count": 22,
     "metadata": {},
     "output_type": "execute_result"
    }
   ],
   "source": [
    "tafe_resignations['Contributing Factors. Dissatisfaction'].value_counts()"
   ]
  },
  {
   "cell_type": "code",
   "execution_count": 23,
   "metadata": {
    "collapsed": false
   },
   "outputs": [
    {
     "data": {
      "text/plain": [
       "-                      270\n",
       "Job Dissatisfaction     62\n",
       "Name: Contributing Factors. Job Dissatisfaction, dtype: int64"
      ]
     },
     "execution_count": 23,
     "metadata": {},
     "output_type": "execute_result"
    }
   ],
   "source": [
    "tafe_resignations['Contributing Factors. Job Dissatisfaction'].value_counts()"
   ]
  },
  {
   "cell_type": "code",
   "execution_count": 24,
   "metadata": {
    "collapsed": true
   },
   "outputs": [],
   "source": [
    "def update_vals(x):\n",
    "    if pd.isnull(x) == True:\n",
    "        return np.nan\n",
    "    if x == '-':\n",
    "        return False\n",
    "    else:\n",
    "        return True"
   ]
  },
  {
   "cell_type": "code",
   "execution_count": 25,
   "metadata": {
    "collapsed": false
   },
   "outputs": [
    {
     "name": "stderr",
     "output_type": "stream",
     "text": [
      "/dataquest/system/env/python3/lib/python3.4/site-packages/pandas/core/frame.py:2540: SettingWithCopyWarning: \n",
      "A value is trying to be set on a copy of a slice from a DataFrame.\n",
      "Try using .loc[row_indexer,col_indexer] = value instead\n",
      "\n",
      "See the caveats in the documentation: http://pandas.pydata.org/pandas-docs/stable/indexing.html#indexing-view-versus-copy\n",
      "  self[k1] = value[k2]\n"
     ]
    }
   ],
   "source": [
    "tafe_factors = ['Contributing Factors. Dissatisfaction','Contributing Factors. Job Dissatisfaction']\n",
    "tafe_resignations [tafe_factors] = tafe_resignations [tafe_factors].applymap (update_vals)"
   ]
  },
  {
   "cell_type": "code",
   "execution_count": 26,
   "metadata": {
    "collapsed": false
   },
   "outputs": [],
   "source": [
    "# tafe_resignations [factors] "
   ]
  },
  {
   "cell_type": "code",
   "execution_count": 27,
   "metadata": {
    "collapsed": true
   },
   "outputs": [],
   "source": [
    "dete_factors = ['job_dissatisfaction','dissatisfaction_with_the_department','physical_work_environment','lack_of_recognition','lack_of_job_security','work_location','employment_conditions','work_life_balance','workload']"
   ]
  },
  {
   "cell_type": "code",
   "execution_count": 28,
   "metadata": {
    "collapsed": false
   },
   "outputs": [
    {
     "name": "stderr",
     "output_type": "stream",
     "text": [
      "/dataquest/system/env/python3/lib/python3.4/site-packages/ipykernel/__main__.py:1: SettingWithCopyWarning: \n",
      "A value is trying to be set on a copy of a slice from a DataFrame.\n",
      "Try using .loc[row_indexer,col_indexer] = value instead\n",
      "\n",
      "See the caveats in the documentation: http://pandas.pydata.org/pandas-docs/stable/indexing.html#indexing-view-versus-copy\n",
      "  if __name__ == '__main__':\n"
     ]
    }
   ],
   "source": [
    "tafe_resignations['dissatisfied'] = tafe_resignations[tafe_factors].any(axis=1)"
   ]
  },
  {
   "cell_type": "code",
   "execution_count": 29,
   "metadata": {
    "collapsed": false
   },
   "outputs": [
    {
     "name": "stderr",
     "output_type": "stream",
     "text": [
      "/dataquest/system/env/python3/lib/python3.4/site-packages/ipykernel/__main__.py:1: SettingWithCopyWarning: \n",
      "A value is trying to be set on a copy of a slice from a DataFrame.\n",
      "Try using .loc[row_indexer,col_indexer] = value instead\n",
      "\n",
      "See the caveats in the documentation: http://pandas.pydata.org/pandas-docs/stable/indexing.html#indexing-view-versus-copy\n",
      "  if __name__ == '__main__':\n"
     ]
    }
   ],
   "source": [
    "dete_resignations['dissatisfied'] = dete_resignations[dete_factors].any(axis=1)"
   ]
  },
  {
   "cell_type": "code",
   "execution_count": 30,
   "metadata": {
    "collapsed": false
   },
   "outputs": [],
   "source": [
    "dete_resignations_up = dete_resignations.copy()\n",
    "tafe_resignations_up = tafe_resignations.copy()"
   ]
  },
  {
   "cell_type": "code",
   "execution_count": 31,
   "metadata": {
    "collapsed": true
   },
   "outputs": [],
   "source": [
    "dete_resignations_up['institute'] = 'DETE'\n",
    "tafe_resignations_up['institute'] = 'TAFE'"
   ]
  },
  {
   "cell_type": "code",
   "execution_count": 32,
   "metadata": {
    "collapsed": false
   },
   "outputs": [
    {
     "data": {
      "text/plain": [
       "array(['index', 'id', 'separationtype', 'cease_date', 'dete_start_date',\n",
       "       'role_start_date', 'position', 'classification', 'region',\n",
       "       'business_unit', 'employment_status',\n",
       "       'career_move_to_public_sector', 'career_move_to_private_sector',\n",
       "       'interpersonal_conflicts', 'job_dissatisfaction',\n",
       "       'dissatisfaction_with_the_department', 'physical_work_environment',\n",
       "       'lack_of_recognition', 'lack_of_job_security', 'work_location',\n",
       "       'employment_conditions', 'maternity/family', 'relocation',\n",
       "       'study/travel', 'ill_health', 'traumatic_incident',\n",
       "       'work_life_balance', 'workload', 'none_of_the_above', 'gender',\n",
       "       'age', 'aboriginal', 'torres_strait', 'south_sea', 'disability',\n",
       "       'nesb', 'year', 'institute_service', 'dissatisfied', 'institute'],\n",
       "      dtype=object)"
      ]
     },
     "execution_count": 32,
     "metadata": {},
     "output_type": "execute_result"
    }
   ],
   "source": [
    "dete_resignations_up.columns.values"
   ]
  },
  {
   "cell_type": "code",
   "execution_count": 33,
   "metadata": {
    "collapsed": false
   },
   "outputs": [
    {
     "data": {
      "text/plain": [
       "array(['index', 'id', 'Institute', 'WorkArea', 'cease_date',\n",
       "       'separationtype',\n",
       "       'Contributing Factors. Career Move - Public Sector ',\n",
       "       'Contributing Factors. Career Move - Private Sector ',\n",
       "       'Contributing Factors. Career Move - Self-employment',\n",
       "       'Contributing Factors. Ill Health',\n",
       "       'Contributing Factors. Maternity/Family',\n",
       "       'Contributing Factors. Dissatisfaction',\n",
       "       'Contributing Factors. Job Dissatisfaction',\n",
       "       'Contributing Factors. Interpersonal Conflict',\n",
       "       'Contributing Factors. Study', 'Contributing Factors. Travel',\n",
       "       'Contributing Factors. Other', 'Contributing Factors. NONE',\n",
       "       'gender', 'age', 'employment_status', 'position',\n",
       "       'institute_service', 'role_service', 'year', 'dissatisfied',\n",
       "       'institute'], dtype=object)"
      ]
     },
     "execution_count": 33,
     "metadata": {},
     "output_type": "execute_result"
    }
   ],
   "source": [
    "tafe_resignations_up.columns.values"
   ]
  },
  {
   "cell_type": "code",
   "execution_count": 34,
   "metadata": {
    "collapsed": false
   },
   "outputs": [],
   "source": [
    "combined = pd.concat([dete_resignations_up, tafe_resignations_up], ignore_index=True)"
   ]
  },
  {
   "cell_type": "code",
   "execution_count": 35,
   "metadata": {
    "collapsed": false
   },
   "outputs": [],
   "source": [
    "combined_updated = combined.dropna(thresh=500, axis=1)"
   ]
  },
  {
   "cell_type": "markdown",
   "metadata": {},
   "source": [
    "### Combined Columns\n",
    "\n",
    "1. Created Supplemental Columns for further analytsis of job satisfaction, resignation, and and tenure in position.\n",
    "2. Created columns include :<br>\n",
    "    a. Institute Column for DETE and TAFE, identification when combined<br>\n",
    "    b. General job dissatisfaction column<br>\n",
    "    c. Tenure years before resignations\n",
    "3. DETE and TAFE institutes are combined into one = COMBINED."
   ]
  },
  {
   "cell_type": "code",
   "execution_count": 36,
   "metadata": {
    "collapsed": false
   },
   "outputs": [
    {
     "data": {
      "text/plain": [
       "<bound method DataFrame.head of              age cease_date  dissatisfied    employment_status  gender  \\\n",
       "0          36-40    05/2012         False  Permanent Full-time  Female   \n",
       "1          41-45    05/2012          True  Permanent Full-time  Female   \n",
       "2          31-35    07/2012         False  Permanent Full-time  Female   \n",
       "3          46-50       2012          True  Permanent Part-time  Female   \n",
       "4          31-35       2012         False  Permanent Full-time    Male   \n",
       "5          36-40       2012         False  Permanent Full-time  Female   \n",
       "6          31-35       2012          True  Permanent Full-time    Male   \n",
       "7    61 or older       2012          True  Permanent Part-time    Male   \n",
       "8          56-60       2012         False  Permanent Full-time    Male   \n",
       "9          51-55       2012         False  Permanent Part-time  Female   \n",
       "10         46-50       2012          True  Permanent Part-time  Female   \n",
       "11   61 or older       2012          True  Permanent Full-time  Female   \n",
       "12         41-45       2012          True  Permanent Part-time  Female   \n",
       "13         21-25       2012         False  Permanent Full-time  Female   \n",
       "14         36-40       2012          True  Permanent Full-time    Male   \n",
       "15   61 or older       2012          True  Permanent Part-time    Male   \n",
       "16         21-25       2012         False  Temporary Part-time  Female   \n",
       "17         21-25       2012          True  Permanent Full-time  Female   \n",
       "18         56-60       2012         False  Permanent Full-time    Male   \n",
       "19         51-55       2012          True  Permanent Full-time  Female   \n",
       "20         41-45       2012         False  Permanent Part-time  Female   \n",
       "21         51-55       2012          True  Permanent Full-time    Male   \n",
       "22         21-25       2012         False  Permanent Full-time    Male   \n",
       "23         21-25       2012         False  Permanent Full-time    Male   \n",
       "24   61 or older       2012         False  Permanent Full-time  Female   \n",
       "25         26-30       2012         False  Permanent Part-time  Female   \n",
       "26         46-50       2012         False  Permanent Full-time    Male   \n",
       "27         31-35       2012         False  Temporary Part-time  Female   \n",
       "28         36-40       2012          True  Permanent Full-time  Female   \n",
       "29         36-40       2012         False  Permanent Part-time  Female   \n",
       "..           ...        ...           ...                  ...     ...   \n",
       "621       46  50       2013         False  Temporary Part-time  Female   \n",
       "622       41  45       2013         False  Permanent Part-time  Female   \n",
       "623       46  50       2013          True  Permanent Full-time  Female   \n",
       "624          NaN       2013         False                  NaN     NaN   \n",
       "625          NaN       2013         False                  NaN     NaN   \n",
       "626       26  30       2013         False  Temporary Full-time  Female   \n",
       "627          NaN       2013         False                  NaN     NaN   \n",
       "628       46  50       2013          True  Temporary Full-time  Female   \n",
       "629        51-55       2013          True  Temporary Full-time    Male   \n",
       "630       41  45       2013         False      Contract/casual  Female   \n",
       "631       36  40       2013         False  Temporary Full-time  Female   \n",
       "632        51-55       2013         False  Permanent Full-time    Male   \n",
       "633  56 or older       2013         False  Temporary Part-time  Female   \n",
       "634       26  30       2013         False  Temporary Full-time  Female   \n",
       "635       26  30       2013         False  Permanent Part-time  Female   \n",
       "636       41  45       2013         False  Temporary Full-time  Female   \n",
       "637       41  45       2013         False      Contract/casual    Male   \n",
       "638       26  30       2013          True  Temporary Full-time  Female   \n",
       "639       41  45       2013         False  Temporary Full-time  Female   \n",
       "640       46  50       2013         False  Permanent Part-time  Female   \n",
       "641       41  45       2013          True  Permanent Full-time    Male   \n",
       "642          NaN       2013         False                  NaN     NaN   \n",
       "643  56 or older       2013         False  Permanent Part-time  Female   \n",
       "644       26  30       2013         False  Temporary Full-time  Female   \n",
       "645          NaN       2013         False                  NaN     NaN   \n",
       "646       21  25       2013         False  Temporary Full-time    Male   \n",
       "647        51-55       2013         False  Temporary Full-time    Male   \n",
       "648          NaN       2013         False                  NaN     NaN   \n",
       "649        51-55       2013         False  Permanent Full-time  Female   \n",
       "650       26  30       2013         False      Contract/casual  Female   \n",
       "\n",
       "               id  index institute institute_service  \\\n",
       "0    4.000000e+00      3      DETE                -7   \n",
       "1    6.000000e+00      5      DETE               -18   \n",
       "2    9.000000e+00      8      DETE                -3   \n",
       "3    1.000000e+01      9      DETE               -15   \n",
       "4    1.200000e+01     11      DETE                -3   \n",
       "5    1.300000e+01     12      DETE               -14   \n",
       "6    1.500000e+01     14      DETE                -5   \n",
       "7    1.700000e+01     16      DETE               NaN   \n",
       "8    2.100000e+01     20      DETE               -30   \n",
       "9    2.200000e+01     21      DETE               -32   \n",
       "10   2.300000e+01     22      DETE               -15   \n",
       "11   2.400000e+01     23      DETE               -39   \n",
       "12   2.600000e+01     25      DETE               -17   \n",
       "13   2.800000e+01     27      DETE                -7   \n",
       "14   3.400000e+01     33      DETE                -9   \n",
       "15   3.500000e+01     34      DETE                -6   \n",
       "16   3.800000e+01     37      DETE                -1   \n",
       "17   4.000000e+01     39      DETE               NaN   \n",
       "18   4.100000e+01     40      DETE               -35   \n",
       "19   4.200000e+01     41      DETE               -38   \n",
       "20   4.300000e+01     42      DETE                -1   \n",
       "21   4.400000e+01     43      DETE               -36   \n",
       "22   4.900000e+01     48      DETE                -3   \n",
       "23   5.100000e+01     50      DETE                -3   \n",
       "24   5.200000e+01     51      DETE               -19   \n",
       "25   5.600000e+01     55      DETE                -4   \n",
       "26   5.800000e+01     57      DETE                -9   \n",
       "27   6.200000e+01     61      DETE                -1   \n",
       "28   7.000000e+01     69      DETE                -6   \n",
       "29   7.200000e+01     71      DETE                -1   \n",
       "..            ...    ...       ...               ...   \n",
       "621  6.349985e+17    659      TAFE               1-2   \n",
       "622  6.349994e+17    660      TAFE               3-4   \n",
       "623  6.350003e+17    661      TAFE               5-6   \n",
       "624  6.350055e+17    665      TAFE               NaN   \n",
       "625  6.350055e+17    666      TAFE               NaN   \n",
       "626  6.350108e+17    669      TAFE               3-4   \n",
       "627  6.350124e+17    670      TAFE               NaN   \n",
       "628  6.350127e+17    671      TAFE  Less than 1 year   \n",
       "629  6.350175e+17    675      TAFE  Less than 1 year   \n",
       "630  6.350194e+17    676      TAFE               1-2   \n",
       "631  6.350219e+17    677      TAFE  Less than 1 year   \n",
       "632  6.350253e+17    678      TAFE               3-4   \n",
       "633  6.350279e+17    679      TAFE               1-2   \n",
       "634  6.350314e+17    681      TAFE  Less than 1 year   \n",
       "635  6.350357e+17    682      TAFE  Less than 1 year   \n",
       "636  6.350374e+17    683      TAFE  Less than 1 year   \n",
       "637  6.350375e+17    684      TAFE               3-4   \n",
       "638  6.350402e+17    685      TAFE               1-2   \n",
       "639  6.350426e+17    686      TAFE               5-6   \n",
       "640  6.350479e+17    688      TAFE               5-6   \n",
       "641  6.350480e+17    689      TAFE  Less than 1 year   \n",
       "642  6.350496e+17    690      TAFE               NaN   \n",
       "643  6.350496e+17    691      TAFE               3-4   \n",
       "644  6.350599e+17    693      TAFE               1-2   \n",
       "645  6.350652e+17    694      TAFE               NaN   \n",
       "646  6.350660e+17    696      TAFE               5-6   \n",
       "647  6.350668e+17    697      TAFE               1-2   \n",
       "648  6.350677e+17    698      TAFE               NaN   \n",
       "649  6.350704e+17    699      TAFE               5-6   \n",
       "650  6.350730e+17    701      TAFE               3-4   \n",
       "\n",
       "                                         position  \\\n",
       "0                                         Teacher   \n",
       "1                                Guidance Officer   \n",
       "2                                         Teacher   \n",
       "3                                    Teacher Aide   \n",
       "4                                         Teacher   \n",
       "5                                         Teacher   \n",
       "6                                         Teacher   \n",
       "7                                    Teacher Aide   \n",
       "8                                         Teacher   \n",
       "9                                         Cleaner   \n",
       "10                    School Administrative Staff   \n",
       "11                                        Teacher   \n",
       "12                                        Teacher   \n",
       "13                                 Public Servant   \n",
       "14                                        Teacher   \n",
       "15                                        Cleaner   \n",
       "16                                   Teacher Aide   \n",
       "17                                        Teacher   \n",
       "18                                        Teacher   \n",
       "19   Head of Curriculum/Head of Special Education   \n",
       "20                                        Cleaner   \n",
       "21                                        Teacher   \n",
       "22                                        Cleaner   \n",
       "23                                        Cleaner   \n",
       "24                                        Cleaner   \n",
       "25                                   Teacher Aide   \n",
       "26                                        Teacher   \n",
       "27                                Schools Officer   \n",
       "28                                 Public Servant   \n",
       "29                                   Teacher Aide   \n",
       "..                                            ...   \n",
       "621                           Administration (AO)   \n",
       "622                           Administration (AO)   \n",
       "623                           Administration (AO)   \n",
       "624                                           NaN   \n",
       "625                                           NaN   \n",
       "626                           Administration (AO)   \n",
       "627                                           NaN   \n",
       "628                       Teacher (including LVT)   \n",
       "629                       Teacher (including LVT)   \n",
       "630                           Administration (AO)   \n",
       "631                           Administration (AO)   \n",
       "632                           Administration (AO)   \n",
       "633                              Operational (OO)   \n",
       "634                           Administration (AO)   \n",
       "635                           Administration (AO)   \n",
       "636                           Administration (AO)   \n",
       "637                           Administration (AO)   \n",
       "638                        Technical Officer (TO)   \n",
       "639                           Administration (AO)   \n",
       "640                     Professional Officer (PO)   \n",
       "641                       Teacher (including LVT)   \n",
       "642                                           NaN   \n",
       "643                              Operational (OO)   \n",
       "644                           Administration (AO)   \n",
       "645                                           NaN   \n",
       "646                              Operational (OO)   \n",
       "647                       Teacher (including LVT)   \n",
       "648                                           NaN   \n",
       "649                       Teacher (including LVT)   \n",
       "650                           Administration (AO)   \n",
       "\n",
       "                           separationtype    year  \n",
       "0               Resignation-Other reasons  2012.0  \n",
       "1               Resignation-Other reasons  2012.0  \n",
       "2               Resignation-Other reasons  2012.0  \n",
       "3              Resignation-Other employer  2012.0  \n",
       "4    Resignation-Move overseas/interstate  2012.0  \n",
       "5               Resignation-Other reasons  2012.0  \n",
       "6              Resignation-Other employer  2012.0  \n",
       "7               Resignation-Other reasons  2012.0  \n",
       "8              Resignation-Other employer  2012.0  \n",
       "9               Resignation-Other reasons  2012.0  \n",
       "10              Resignation-Other reasons  2012.0  \n",
       "11              Resignation-Other reasons  2012.0  \n",
       "12              Resignation-Other reasons  2012.0  \n",
       "13             Resignation-Other employer  2012.0  \n",
       "14              Resignation-Other reasons  2012.0  \n",
       "15              Resignation-Other reasons  2012.0  \n",
       "16              Resignation-Other reasons  2012.0  \n",
       "17   Resignation-Move overseas/interstate  2012.0  \n",
       "18             Resignation-Other employer  2012.0  \n",
       "19              Resignation-Other reasons  2012.0  \n",
       "20   Resignation-Move overseas/interstate  2012.0  \n",
       "21              Resignation-Other reasons  2012.0  \n",
       "22   Resignation-Move overseas/interstate  2012.0  \n",
       "23   Resignation-Move overseas/interstate  2012.0  \n",
       "24              Resignation-Other reasons  2012.0  \n",
       "25             Resignation-Other employer  2012.0  \n",
       "26             Resignation-Other employer  2012.0  \n",
       "27              Resignation-Other reasons  2012.0  \n",
       "28              Resignation-Other reasons  2012.0  \n",
       "29              Resignation-Other reasons  2012.0  \n",
       "..                                    ...     ...  \n",
       "621                           Resignation  2013.0  \n",
       "622                           Resignation  2013.0  \n",
       "623                           Resignation  2013.0  \n",
       "624                           Resignation  2013.0  \n",
       "625                           Resignation  2013.0  \n",
       "626                           Resignation  2013.0  \n",
       "627                           Resignation  2013.0  \n",
       "628                           Resignation  2013.0  \n",
       "629                           Resignation  2013.0  \n",
       "630                           Resignation  2013.0  \n",
       "631                           Resignation  2013.0  \n",
       "632                           Resignation  2013.0  \n",
       "633                           Resignation  2013.0  \n",
       "634                           Resignation  2013.0  \n",
       "635                           Resignation  2013.0  \n",
       "636                           Resignation  2013.0  \n",
       "637                           Resignation  2013.0  \n",
       "638                           Resignation  2013.0  \n",
       "639                           Resignation  2013.0  \n",
       "640                           Resignation  2013.0  \n",
       "641                           Resignation  2013.0  \n",
       "642                           Resignation  2013.0  \n",
       "643                           Resignation  2013.0  \n",
       "644                           Resignation  2013.0  \n",
       "645                           Resignation  2013.0  \n",
       "646                           Resignation  2013.0  \n",
       "647                           Resignation  2013.0  \n",
       "648                           Resignation  2013.0  \n",
       "649                           Resignation  2013.0  \n",
       "650                           Resignation  2013.0  \n",
       "\n",
       "[651 rows x 12 columns]>"
      ]
     },
     "execution_count": 36,
     "metadata": {},
     "output_type": "execute_result"
    }
   ],
   "source": [
    "combined_updated.head"
   ]
  },
  {
   "cell_type": "code",
   "execution_count": 37,
   "metadata": {
    "collapsed": false
   },
   "outputs": [
    {
     "name": "stderr",
     "output_type": "stream",
     "text": [
      "/dataquest/system/env/python3/lib/python3.4/site-packages/ipykernel/__main__.py:1: FutureWarning: currently extract(expand=None) means expand=False (return Index/Series/DataFrame) but in a future version of pandas this will be changed to expand=True (return DataFrame)\n",
      "  if __name__ == '__main__':\n",
      "/dataquest/system/env/python3/lib/python3.4/site-packages/ipykernel/__main__.py:1: SettingWithCopyWarning: \n",
      "A value is trying to be set on a copy of a slice from a DataFrame.\n",
      "Try using .loc[row_indexer,col_indexer] = value instead\n",
      "\n",
      "See the caveats in the documentation: http://pandas.pydata.org/pandas-docs/stable/indexing.html#indexing-view-versus-copy\n",
      "  if __name__ == '__main__':\n"
     ]
    }
   ],
   "source": [
    "combined_updated['institute_service_up'] = combined_updated['institute_service'].astype('str').str.extract(r'(\\d+)')"
   ]
  },
  {
   "cell_type": "code",
   "execution_count": 38,
   "metadata": {
    "collapsed": false
   },
   "outputs": [
    {
     "name": "stderr",
     "output_type": "stream",
     "text": [
      "/dataquest/system/env/python3/lib/python3.4/site-packages/ipykernel/__main__.py:1: SettingWithCopyWarning: \n",
      "A value is trying to be set on a copy of a slice from a DataFrame.\n",
      "Try using .loc[row_indexer,col_indexer] = value instead\n",
      "\n",
      "See the caveats in the documentation: http://pandas.pydata.org/pandas-docs/stable/indexing.html#indexing-view-versus-copy\n",
      "  if __name__ == '__main__':\n"
     ]
    }
   ],
   "source": [
    "combined_updated['institute_service_up'] = combined_updated['institute_service_up'].astype('float')"
   ]
  },
  {
   "cell_type": "code",
   "execution_count": 39,
   "metadata": {
    "collapsed": false
   },
   "outputs": [
    {
     "data": {
      "text/plain": [
       "True"
      ]
     },
     "execution_count": 39,
     "metadata": {},
     "output_type": "execute_result"
    }
   ],
   "source": [
    "str(combined_updated['institute_service_up'][7]) == 'nan'"
   ]
  },
  {
   "cell_type": "code",
   "execution_count": 40,
   "metadata": {
    "collapsed": true
   },
   "outputs": [],
   "source": [
    "def exp (x):\n",
    "    if str(x) == 'nan':\n",
    "        return np.nan\n",
    "    if x < 3:\n",
    "        return 'NEW'\n",
    "    if x < 7:\n",
    "        return 'EXP'\n",
    "    if x < 11:\n",
    "        return 'EST'\n",
    "    else:\n",
    "        return 'VET'"
   ]
  },
  {
   "cell_type": "code",
   "execution_count": 41,
   "metadata": {
    "collapsed": false
   },
   "outputs": [
    {
     "name": "stderr",
     "output_type": "stream",
     "text": [
      "/dataquest/system/env/python3/lib/python3.4/site-packages/ipykernel/__main__.py:1: SettingWithCopyWarning: \n",
      "A value is trying to be set on a copy of a slice from a DataFrame.\n",
      "Try using .loc[row_indexer,col_indexer] = value instead\n",
      "\n",
      "See the caveats in the documentation: http://pandas.pydata.org/pandas-docs/stable/indexing.html#indexing-view-versus-copy\n",
      "  if __name__ == '__main__':\n"
     ]
    }
   ],
   "source": [
    "combined_updated['service_cat'] = combined_updated['institute_service_up'].apply (exp)"
   ]
  },
  {
   "cell_type": "code",
   "execution_count": 42,
   "metadata": {
    "collapsed": false
   },
   "outputs": [
    {
     "data": {
      "text/plain": [
       "0      EST\n",
       "1      VET\n",
       "2      EXP\n",
       "3      VET\n",
       "4      EXP\n",
       "5      VET\n",
       "6      EXP\n",
       "7      NaN\n",
       "8      VET\n",
       "9      VET\n",
       "10     VET\n",
       "11     VET\n",
       "12     VET\n",
       "13     EST\n",
       "14     EST\n",
       "15     EXP\n",
       "16     NEW\n",
       "17     NaN\n",
       "18     VET\n",
       "19     VET\n",
       "20     NEW\n",
       "21     VET\n",
       "22     EXP\n",
       "23     EXP\n",
       "24     VET\n",
       "25     EXP\n",
       "26     EST\n",
       "27     NEW\n",
       "28     EXP\n",
       "29     NEW\n",
       "      ... \n",
       "621    NEW\n",
       "622    EXP\n",
       "623    EXP\n",
       "624    NaN\n",
       "625    NaN\n",
       "626    EXP\n",
       "627    NaN\n",
       "628    NEW\n",
       "629    NEW\n",
       "630    NEW\n",
       "631    NEW\n",
       "632    EXP\n",
       "633    NEW\n",
       "634    NEW\n",
       "635    NEW\n",
       "636    NEW\n",
       "637    EXP\n",
       "638    NEW\n",
       "639    EXP\n",
       "640    EXP\n",
       "641    NEW\n",
       "642    NaN\n",
       "643    EXP\n",
       "644    NEW\n",
       "645    NaN\n",
       "646    EXP\n",
       "647    NEW\n",
       "648    NaN\n",
       "649    EXP\n",
       "650    EXP\n",
       "Name: service_cat, Length: 651, dtype: object"
      ]
     },
     "execution_count": 42,
     "metadata": {},
     "output_type": "execute_result"
    }
   ],
   "source": [
    "combined_updated['service_cat']"
   ]
  },
  {
   "cell_type": "code",
   "execution_count": 45,
   "metadata": {
    "collapsed": false
   },
   "outputs": [],
   "source": [
    "combined_final = combined.copy()\n",
    "combined_final.to_csv('combined_final.csv',index=False,header=True)"
   ]
  },
  {
   "cell_type": "code",
   "execution_count": null,
   "metadata": {
    "collapsed": true
   },
   "outputs": [],
   "source": []
  }
 ],
 "metadata": {
  "kernelspec": {
   "display_name": "Python 3",
   "language": "python",
   "name": "python3"
  },
  "language_info": {
   "codemirror_mode": {
    "name": "ipython",
    "version": 3
   },
   "file_extension": ".py",
   "mimetype": "text/x-python",
   "name": "python",
   "nbconvert_exporter": "python",
   "pygments_lexer": "ipython3",
   "version": "3.4.3"
  }
 },
 "nbformat": 4,
 "nbformat_minor": 2
}
