{
 "cells": [
  {
   "cell_type": "code",
   "execution_count": 116,
   "metadata": {
    "collapsed": true
   },
   "outputs": [],
   "source": [
    "import pandas as pd\n",
    "import numpy as np"
   ]
  },
  {
   "cell_type": "code",
   "execution_count": 117,
   "metadata": {
    "collapsed": false
   },
   "outputs": [],
   "source": [
    "file = 'autos.csv'\n",
    "autos = pd.read_csv (file, encoding='Windows-1252')"
   ]
  },
  {
   "cell_type": "code",
   "execution_count": 118,
   "metadata": {
    "collapsed": false
   },
   "outputs": [
    {
     "name": "stdout",
     "output_type": "stream",
     "text": [
      "<class 'pandas.core.frame.DataFrame'>\n",
      "RangeIndex: 50000 entries, 0 to 49999\n",
      "Data columns (total 20 columns):\n",
      "dateCrawled            50000 non-null object\n",
      "name                   50000 non-null object\n",
      "seller                 50000 non-null object\n",
      "offerType              50000 non-null object\n",
      "price                  50000 non-null object\n",
      "abtest                 50000 non-null object\n",
      "vehicleType            44905 non-null object\n",
      "yearOfRegistration     50000 non-null int64\n",
      "gearbox                47320 non-null object\n",
      "powerPS                50000 non-null int64\n",
      "model                  47242 non-null object\n",
      "odometer               50000 non-null object\n",
      "monthOfRegistration    50000 non-null int64\n",
      "fuelType               45518 non-null object\n",
      "brand                  50000 non-null object\n",
      "notRepairedDamage      40171 non-null object\n",
      "dateCreated            50000 non-null object\n",
      "nrOfPictures           50000 non-null int64\n",
      "postalCode             50000 non-null int64\n",
      "lastSeen               50000 non-null object\n",
      "dtypes: int64(5), object(15)\n",
      "memory usage: 7.6+ MB\n",
      "None\n",
      "           dateCrawled                                               name  \\\n",
      "0  2016-03-26 17:47:46                   Peugeot_807_160_NAVTECH_ON_BOARD   \n",
      "1  2016-04-04 13:38:56         BMW_740i_4_4_Liter_HAMANN_UMBAU_Mega_Optik   \n",
      "2  2016-03-26 18:57:24                         Volkswagen_Golf_1.6_United   \n",
      "3  2016-03-12 16:58:10  Smart_smart_fortwo_coupe_softouch/F1/Klima/Pan...   \n",
      "4  2016-04-01 14:38:50  Ford_Focus_1_6_Benzin_TÜV_neu_ist_sehr_gepfleg...   \n",
      "\n",
      "   seller offerType   price   abtest vehicleType  yearOfRegistration  \\\n",
      "0  privat   Angebot  $5,000  control         bus                2004   \n",
      "1  privat   Angebot  $8,500  control   limousine                1997   \n",
      "2  privat   Angebot  $8,990     test   limousine                2009   \n",
      "3  privat   Angebot  $4,350  control  kleinwagen                2007   \n",
      "4  privat   Angebot  $1,350     test       kombi                2003   \n",
      "\n",
      "     gearbox  powerPS   model   odometer  monthOfRegistration fuelType  \\\n",
      "0    manuell      158  andere  150,000km                    3      lpg   \n",
      "1  automatik      286     7er  150,000km                    6   benzin   \n",
      "2    manuell      102    golf   70,000km                    7   benzin   \n",
      "3  automatik       71  fortwo   70,000km                    6   benzin   \n",
      "4    manuell        0   focus  150,000km                    7   benzin   \n",
      "\n",
      "        brand notRepairedDamage          dateCreated  nrOfPictures  \\\n",
      "0     peugeot              nein  2016-03-26 00:00:00             0   \n",
      "1         bmw              nein  2016-04-04 00:00:00             0   \n",
      "2  volkswagen              nein  2016-03-26 00:00:00             0   \n",
      "3       smart              nein  2016-03-12 00:00:00             0   \n",
      "4        ford              nein  2016-04-01 00:00:00             0   \n",
      "\n",
      "   postalCode             lastSeen  \n",
      "0       79588  2016-04-06 06:45:54  \n",
      "1       71034  2016-04-06 14:45:08  \n",
      "2       35394  2016-04-06 20:15:37  \n",
      "3       33729  2016-03-15 03:16:28  \n",
      "4       39218  2016-04-01 14:38:50  \n"
     ]
    }
   ],
   "source": [
    "print (autos.info())\n",
    "print (autos.head(5))"
   ]
  },
  {
   "cell_type": "code",
   "execution_count": 119,
   "metadata": {
    "collapsed": false
   },
   "outputs": [
    {
     "data": {
      "text/plain": [
       "Index(['dateCrawled', 'name', 'seller', 'offerType', 'price', 'abtest',\n",
       "       'vehicleType', 'yearOfRegistration', 'gearbox', 'powerPS', 'model',\n",
       "       'odometer', 'monthOfRegistration', 'fuelType', 'brand',\n",
       "       'notRepairedDamage', 'dateCreated', 'nrOfPictures', 'postalCode',\n",
       "       'lastSeen'],\n",
       "      dtype='object')"
      ]
     },
     "execution_count": 119,
     "metadata": {},
     "output_type": "execute_result"
    }
   ],
   "source": [
    "autos.columns"
   ]
  },
  {
   "cell_type": "code",
   "execution_count": 120,
   "metadata": {
    "collapsed": false
   },
   "outputs": [],
   "source": [
    "ren_columns={'yearOfRegistration' : 'registration_year',\n",
    "'monthOfRegistration' : 'registration_month',\n",
    "'notRepairedDamage' : 'unrepaired_damage',\n",
    "'dateCreated' : 'ad_created'}\n",
    "autos.rename(columns=ren_columns, inplace=True)"
   ]
  },
  {
   "cell_type": "code",
   "execution_count": 121,
   "metadata": {
    "collapsed": false
   },
   "outputs": [
    {
     "data": {
      "text/plain": [
       "Index(['dateCrawled', 'name', 'seller', 'offerType', 'price', 'abtest',\n",
       "       'vehicleType', 'registration_year', 'gearbox', 'powerPS', 'model',\n",
       "       'odometer', 'registration_month', 'fuelType', 'brand',\n",
       "       'unrepaired_damage', 'ad_created', 'nrOfPictures', 'postalCode',\n",
       "       'lastSeen'],\n",
       "      dtype='object')"
      ]
     },
     "execution_count": 121,
     "metadata": {},
     "output_type": "execute_result"
    }
   ],
   "source": [
    "autos.columns"
   ]
  },
  {
   "cell_type": "code",
   "execution_count": 122,
   "metadata": {
    "collapsed": false
   },
   "outputs": [
    {
     "data": {
      "text/html": [
       "<div>\n",
       "<style scoped>\n",
       "    .dataframe tbody tr th:only-of-type {\n",
       "        vertical-align: middle;\n",
       "    }\n",
       "\n",
       "    .dataframe tbody tr th {\n",
       "        vertical-align: top;\n",
       "    }\n",
       "\n",
       "    .dataframe thead th {\n",
       "        text-align: right;\n",
       "    }\n",
       "</style>\n",
       "<table border=\"1\" class=\"dataframe\">\n",
       "  <thead>\n",
       "    <tr style=\"text-align: right;\">\n",
       "      <th></th>\n",
       "      <th>dateCrawled</th>\n",
       "      <th>name</th>\n",
       "      <th>seller</th>\n",
       "      <th>offerType</th>\n",
       "      <th>price</th>\n",
       "      <th>abtest</th>\n",
       "      <th>vehicleType</th>\n",
       "      <th>registration_year</th>\n",
       "      <th>gearbox</th>\n",
       "      <th>powerPS</th>\n",
       "      <th>model</th>\n",
       "      <th>odometer</th>\n",
       "      <th>registration_month</th>\n",
       "      <th>fuelType</th>\n",
       "      <th>brand</th>\n",
       "      <th>unrepaired_damage</th>\n",
       "      <th>ad_created</th>\n",
       "      <th>nrOfPictures</th>\n",
       "      <th>postalCode</th>\n",
       "      <th>lastSeen</th>\n",
       "    </tr>\n",
       "  </thead>\n",
       "  <tbody>\n",
       "    <tr>\n",
       "      <th>count</th>\n",
       "      <td>50000</td>\n",
       "      <td>50000</td>\n",
       "      <td>50000</td>\n",
       "      <td>50000</td>\n",
       "      <td>50000</td>\n",
       "      <td>50000</td>\n",
       "      <td>44905</td>\n",
       "      <td>50000.000000</td>\n",
       "      <td>47320</td>\n",
       "      <td>50000.000000</td>\n",
       "      <td>47242</td>\n",
       "      <td>50000</td>\n",
       "      <td>50000.000000</td>\n",
       "      <td>45518</td>\n",
       "      <td>50000</td>\n",
       "      <td>40171</td>\n",
       "      <td>50000</td>\n",
       "      <td>50000.0</td>\n",
       "      <td>50000.000000</td>\n",
       "      <td>50000</td>\n",
       "    </tr>\n",
       "    <tr>\n",
       "      <th>unique</th>\n",
       "      <td>48213</td>\n",
       "      <td>38754</td>\n",
       "      <td>2</td>\n",
       "      <td>2</td>\n",
       "      <td>2357</td>\n",
       "      <td>2</td>\n",
       "      <td>8</td>\n",
       "      <td>NaN</td>\n",
       "      <td>2</td>\n",
       "      <td>NaN</td>\n",
       "      <td>245</td>\n",
       "      <td>13</td>\n",
       "      <td>NaN</td>\n",
       "      <td>7</td>\n",
       "      <td>40</td>\n",
       "      <td>2</td>\n",
       "      <td>76</td>\n",
       "      <td>NaN</td>\n",
       "      <td>NaN</td>\n",
       "      <td>39481</td>\n",
       "    </tr>\n",
       "    <tr>\n",
       "      <th>top</th>\n",
       "      <td>2016-03-11 22:38:16</td>\n",
       "      <td>Ford_Fiesta</td>\n",
       "      <td>privat</td>\n",
       "      <td>Angebot</td>\n",
       "      <td>$0</td>\n",
       "      <td>test</td>\n",
       "      <td>limousine</td>\n",
       "      <td>NaN</td>\n",
       "      <td>manuell</td>\n",
       "      <td>NaN</td>\n",
       "      <td>golf</td>\n",
       "      <td>150,000km</td>\n",
       "      <td>NaN</td>\n",
       "      <td>benzin</td>\n",
       "      <td>volkswagen</td>\n",
       "      <td>nein</td>\n",
       "      <td>2016-04-03 00:00:00</td>\n",
       "      <td>NaN</td>\n",
       "      <td>NaN</td>\n",
       "      <td>2016-04-07 06:17:27</td>\n",
       "    </tr>\n",
       "    <tr>\n",
       "      <th>freq</th>\n",
       "      <td>3</td>\n",
       "      <td>78</td>\n",
       "      <td>49999</td>\n",
       "      <td>49999</td>\n",
       "      <td>1421</td>\n",
       "      <td>25756</td>\n",
       "      <td>12859</td>\n",
       "      <td>NaN</td>\n",
       "      <td>36993</td>\n",
       "      <td>NaN</td>\n",
       "      <td>4024</td>\n",
       "      <td>32424</td>\n",
       "      <td>NaN</td>\n",
       "      <td>30107</td>\n",
       "      <td>10687</td>\n",
       "      <td>35232</td>\n",
       "      <td>1946</td>\n",
       "      <td>NaN</td>\n",
       "      <td>NaN</td>\n",
       "      <td>8</td>\n",
       "    </tr>\n",
       "    <tr>\n",
       "      <th>mean</th>\n",
       "      <td>NaN</td>\n",
       "      <td>NaN</td>\n",
       "      <td>NaN</td>\n",
       "      <td>NaN</td>\n",
       "      <td>NaN</td>\n",
       "      <td>NaN</td>\n",
       "      <td>NaN</td>\n",
       "      <td>2005.073280</td>\n",
       "      <td>NaN</td>\n",
       "      <td>116.355920</td>\n",
       "      <td>NaN</td>\n",
       "      <td>NaN</td>\n",
       "      <td>5.723360</td>\n",
       "      <td>NaN</td>\n",
       "      <td>NaN</td>\n",
       "      <td>NaN</td>\n",
       "      <td>NaN</td>\n",
       "      <td>0.0</td>\n",
       "      <td>50813.627300</td>\n",
       "      <td>NaN</td>\n",
       "    </tr>\n",
       "    <tr>\n",
       "      <th>std</th>\n",
       "      <td>NaN</td>\n",
       "      <td>NaN</td>\n",
       "      <td>NaN</td>\n",
       "      <td>NaN</td>\n",
       "      <td>NaN</td>\n",
       "      <td>NaN</td>\n",
       "      <td>NaN</td>\n",
       "      <td>105.712813</td>\n",
       "      <td>NaN</td>\n",
       "      <td>209.216627</td>\n",
       "      <td>NaN</td>\n",
       "      <td>NaN</td>\n",
       "      <td>3.711984</td>\n",
       "      <td>NaN</td>\n",
       "      <td>NaN</td>\n",
       "      <td>NaN</td>\n",
       "      <td>NaN</td>\n",
       "      <td>0.0</td>\n",
       "      <td>25779.747957</td>\n",
       "      <td>NaN</td>\n",
       "    </tr>\n",
       "    <tr>\n",
       "      <th>min</th>\n",
       "      <td>NaN</td>\n",
       "      <td>NaN</td>\n",
       "      <td>NaN</td>\n",
       "      <td>NaN</td>\n",
       "      <td>NaN</td>\n",
       "      <td>NaN</td>\n",
       "      <td>NaN</td>\n",
       "      <td>1000.000000</td>\n",
       "      <td>NaN</td>\n",
       "      <td>0.000000</td>\n",
       "      <td>NaN</td>\n",
       "      <td>NaN</td>\n",
       "      <td>0.000000</td>\n",
       "      <td>NaN</td>\n",
       "      <td>NaN</td>\n",
       "      <td>NaN</td>\n",
       "      <td>NaN</td>\n",
       "      <td>0.0</td>\n",
       "      <td>1067.000000</td>\n",
       "      <td>NaN</td>\n",
       "    </tr>\n",
       "    <tr>\n",
       "      <th>25%</th>\n",
       "      <td>NaN</td>\n",
       "      <td>NaN</td>\n",
       "      <td>NaN</td>\n",
       "      <td>NaN</td>\n",
       "      <td>NaN</td>\n",
       "      <td>NaN</td>\n",
       "      <td>NaN</td>\n",
       "      <td>1999.000000</td>\n",
       "      <td>NaN</td>\n",
       "      <td>70.000000</td>\n",
       "      <td>NaN</td>\n",
       "      <td>NaN</td>\n",
       "      <td>3.000000</td>\n",
       "      <td>NaN</td>\n",
       "      <td>NaN</td>\n",
       "      <td>NaN</td>\n",
       "      <td>NaN</td>\n",
       "      <td>0.0</td>\n",
       "      <td>30451.000000</td>\n",
       "      <td>NaN</td>\n",
       "    </tr>\n",
       "    <tr>\n",
       "      <th>50%</th>\n",
       "      <td>NaN</td>\n",
       "      <td>NaN</td>\n",
       "      <td>NaN</td>\n",
       "      <td>NaN</td>\n",
       "      <td>NaN</td>\n",
       "      <td>NaN</td>\n",
       "      <td>NaN</td>\n",
       "      <td>2003.000000</td>\n",
       "      <td>NaN</td>\n",
       "      <td>105.000000</td>\n",
       "      <td>NaN</td>\n",
       "      <td>NaN</td>\n",
       "      <td>6.000000</td>\n",
       "      <td>NaN</td>\n",
       "      <td>NaN</td>\n",
       "      <td>NaN</td>\n",
       "      <td>NaN</td>\n",
       "      <td>0.0</td>\n",
       "      <td>49577.000000</td>\n",
       "      <td>NaN</td>\n",
       "    </tr>\n",
       "    <tr>\n",
       "      <th>75%</th>\n",
       "      <td>NaN</td>\n",
       "      <td>NaN</td>\n",
       "      <td>NaN</td>\n",
       "      <td>NaN</td>\n",
       "      <td>NaN</td>\n",
       "      <td>NaN</td>\n",
       "      <td>NaN</td>\n",
       "      <td>2008.000000</td>\n",
       "      <td>NaN</td>\n",
       "      <td>150.000000</td>\n",
       "      <td>NaN</td>\n",
       "      <td>NaN</td>\n",
       "      <td>9.000000</td>\n",
       "      <td>NaN</td>\n",
       "      <td>NaN</td>\n",
       "      <td>NaN</td>\n",
       "      <td>NaN</td>\n",
       "      <td>0.0</td>\n",
       "      <td>71540.000000</td>\n",
       "      <td>NaN</td>\n",
       "    </tr>\n",
       "    <tr>\n",
       "      <th>max</th>\n",
       "      <td>NaN</td>\n",
       "      <td>NaN</td>\n",
       "      <td>NaN</td>\n",
       "      <td>NaN</td>\n",
       "      <td>NaN</td>\n",
       "      <td>NaN</td>\n",
       "      <td>NaN</td>\n",
       "      <td>9999.000000</td>\n",
       "      <td>NaN</td>\n",
       "      <td>17700.000000</td>\n",
       "      <td>NaN</td>\n",
       "      <td>NaN</td>\n",
       "      <td>12.000000</td>\n",
       "      <td>NaN</td>\n",
       "      <td>NaN</td>\n",
       "      <td>NaN</td>\n",
       "      <td>NaN</td>\n",
       "      <td>0.0</td>\n",
       "      <td>99998.000000</td>\n",
       "      <td>NaN</td>\n",
       "    </tr>\n",
       "  </tbody>\n",
       "</table>\n",
       "</div>"
      ],
      "text/plain": [
       "                dateCrawled         name  seller offerType  price abtest  \\\n",
       "count                 50000        50000   50000     50000  50000  50000   \n",
       "unique                48213        38754       2         2   2357      2   \n",
       "top     2016-03-11 22:38:16  Ford_Fiesta  privat   Angebot     $0   test   \n",
       "freq                      3           78   49999     49999   1421  25756   \n",
       "mean                    NaN          NaN     NaN       NaN    NaN    NaN   \n",
       "std                     NaN          NaN     NaN       NaN    NaN    NaN   \n",
       "min                     NaN          NaN     NaN       NaN    NaN    NaN   \n",
       "25%                     NaN          NaN     NaN       NaN    NaN    NaN   \n",
       "50%                     NaN          NaN     NaN       NaN    NaN    NaN   \n",
       "75%                     NaN          NaN     NaN       NaN    NaN    NaN   \n",
       "max                     NaN          NaN     NaN       NaN    NaN    NaN   \n",
       "\n",
       "       vehicleType  registration_year  gearbox       powerPS  model  \\\n",
       "count        44905       50000.000000    47320  50000.000000  47242   \n",
       "unique           8                NaN        2           NaN    245   \n",
       "top      limousine                NaN  manuell           NaN   golf   \n",
       "freq         12859                NaN    36993           NaN   4024   \n",
       "mean           NaN        2005.073280      NaN    116.355920    NaN   \n",
       "std            NaN         105.712813      NaN    209.216627    NaN   \n",
       "min            NaN        1000.000000      NaN      0.000000    NaN   \n",
       "25%            NaN        1999.000000      NaN     70.000000    NaN   \n",
       "50%            NaN        2003.000000      NaN    105.000000    NaN   \n",
       "75%            NaN        2008.000000      NaN    150.000000    NaN   \n",
       "max            NaN        9999.000000      NaN  17700.000000    NaN   \n",
       "\n",
       "         odometer  registration_month fuelType       brand unrepaired_damage  \\\n",
       "count       50000        50000.000000    45518       50000             40171   \n",
       "unique         13                 NaN        7          40                 2   \n",
       "top     150,000km                 NaN   benzin  volkswagen              nein   \n",
       "freq        32424                 NaN    30107       10687             35232   \n",
       "mean          NaN            5.723360      NaN         NaN               NaN   \n",
       "std           NaN            3.711984      NaN         NaN               NaN   \n",
       "min           NaN            0.000000      NaN         NaN               NaN   \n",
       "25%           NaN            3.000000      NaN         NaN               NaN   \n",
       "50%           NaN            6.000000      NaN         NaN               NaN   \n",
       "75%           NaN            9.000000      NaN         NaN               NaN   \n",
       "max           NaN           12.000000      NaN         NaN               NaN   \n",
       "\n",
       "                 ad_created  nrOfPictures    postalCode             lastSeen  \n",
       "count                 50000       50000.0  50000.000000                50000  \n",
       "unique                   76           NaN           NaN                39481  \n",
       "top     2016-04-03 00:00:00           NaN           NaN  2016-04-07 06:17:27  \n",
       "freq                   1946           NaN           NaN                    8  \n",
       "mean                    NaN           0.0  50813.627300                  NaN  \n",
       "std                     NaN           0.0  25779.747957                  NaN  \n",
       "min                     NaN           0.0   1067.000000                  NaN  \n",
       "25%                     NaN           0.0  30451.000000                  NaN  \n",
       "50%                     NaN           0.0  49577.000000                  NaN  \n",
       "75%                     NaN           0.0  71540.000000                  NaN  \n",
       "max                     NaN           0.0  99998.000000                  NaN  "
      ]
     },
     "execution_count": 122,
     "metadata": {},
     "output_type": "execute_result"
    }
   ],
   "source": [
    "autos.describe(include='all')"
   ]
  },
  {
   "cell_type": "code",
   "execution_count": 123,
   "metadata": {
    "collapsed": true
   },
   "outputs": [],
   "source": [
    "autos.rename(columns={'odometer' : 'odometer_km'}, inplace=True)"
   ]
  },
  {
   "cell_type": "code",
   "execution_count": 124,
   "metadata": {
    "collapsed": true
   },
   "outputs": [],
   "source": [
    "autos['price'] = autos['price'].str.extract('(\\d+)', expand=False).astype(float)\n",
    "autos['odometer_km'] = autos['odometer_km'].str.extract('(\\d+)', expand=False).astype(float)"
   ]
  },
  {
   "cell_type": "code",
   "execution_count": 125,
   "metadata": {
    "collapsed": false
   },
   "outputs": [
    {
     "data": {
      "text/plain": [
       "dateCrawled            object\n",
       "name                   object\n",
       "seller                 object\n",
       "offerType              object\n",
       "price                 float64\n",
       "abtest                 object\n",
       "vehicleType            object\n",
       "registration_year       int64\n",
       "gearbox                object\n",
       "powerPS                 int64\n",
       "model                  object\n",
       "odometer_km           float64\n",
       "registration_month      int64\n",
       "fuelType               object\n",
       "brand                  object\n",
       "unrepaired_damage      object\n",
       "ad_created             object\n",
       "nrOfPictures            int64\n",
       "postalCode              int64\n",
       "lastSeen               object\n",
       "dtype: object"
      ]
     },
     "execution_count": 125,
     "metadata": {},
     "output_type": "execute_result"
    }
   ],
   "source": [
    "autos.dtypes"
   ]
  },
  {
   "cell_type": "code",
   "execution_count": 126,
   "metadata": {
    "collapsed": true
   },
   "outputs": [],
   "source": [
    "price = autos['price']\n",
    "speed = autos['odometer_km']"
   ]
  },
  {
   "cell_type": "code",
   "execution_count": 127,
   "metadata": {
    "collapsed": false
   },
   "outputs": [
    {
     "data": {
      "text/plain": [
       "(array([  5.,   8.,   4.,   1.,   7., 300., 250., 590., 999., 350.,   3.,\n",
       "         18.,  41.,  25.,  48.,  90., 777.,   0.,  80.,   2.,  13.,  11.,\n",
       "        900.,   9.,  56.,   6., 650., 700., 995.,  40.,  10.,  31., 449.,\n",
       "        399.,  34.,  36., 800., 600., 320.,  12.,  20., 150., 550., 190.,\n",
       "        200.,  32.,  29., 799., 500.,  23., 499.,  50.,  15.,  21., 890.,\n",
       "         14., 450., 850.,  17.,  24., 888., 750.,  26.,  16.,  22.,  19.,\n",
       "        230., 400., 580., 649., 730., 760., 950., 299.,  42., 790., 699.,\n",
       "         33., 599., 690., 100.,  52., 380., 180., 490.,  46., 333., 170.,\n",
       "        940., 990., 375., 270., 149., 980.,  70., 280., 899., 949.,  28.,\n",
       "         35.,  38., 870., 689., 460., 290., 549., 830., 480.,  27., 370.,\n",
       "        625., 220.,  69.,  99., 749.,  73.,  39.,  37.,  54., 570., 225.,\n",
       "        660., 555.,  75., 199.,  30., 129.,  65., 430.,  66., 475., 330.,\n",
       "        675., 325., 137., 269., 530., 360.,  93., 669., 120.,  74., 998.,\n",
       "        996., 720., 849.,  62.,  53., 780., 260., 930., 680., 140., 122.,\n",
       "         51.,  44., 349., 520., 840., 390., 880., 249.,  72.,  49., 160.,\n",
       "        770., 175., 825., 810.,  45., 275., 895., 655., 470., 540.,  60.,\n",
       "        215., 648., 666., 920.,  64., 193., 222., 173., 340.,  47., 630.,\n",
       "         68., 855., 495., 970., 115., 885., 130., 525., 510., 128., 179.,\n",
       "         58.,  79.,  43., 695., 820.,  94., 125., 989., 425., 195.,  55.,\n",
       "         84., 155., 444., 919., 985., 975.,  59., 235., 198., 110., 265.,\n",
       "        740., 117.,  61., 875., 578., 670., 560.,  63., 379.,  89., 356.,\n",
       "        135., 295., 710., 345., 620., 789., 105., 420., 679., 139., 744.,\n",
       "        829., 169., 410., 414.,  83., 640.,  71., 606., 240., 898., 378.,\n",
       "        719., 329.,  82., 114., 459., 163., 395., 566., 834.,  78., 485.,\n",
       "        575., 925., 945., 285., 217., 628.,  98., 145., 194., 369., 755.,\n",
       "         86., 111., 104., 965.,  88., 435., 951., 277., 860., 958., 795.,\n",
       "        251., 151., 116., 846., 729., 785., 686., 310., 440., 188.,  57.,\n",
       "        248., 745., 725., 579., 960., 501., 889.,  85.,  76., 219., 119.,\n",
       "        205., 359., 185., 839., 210., 197.,  67., 238., 879., 255., 388.,\n",
       "        554., 595., 887., 156., 644., 598., 259., 910., 517., 109., 385.]),\n",
       " array([150.,  70.,  50.,  80.,  10.,  30., 125.,  90.,  20.,  60.,   5.,\n",
       "        100.,  40.]))"
      ]
     },
     "execution_count": 127,
     "metadata": {},
     "output_type": "execute_result"
    }
   ],
   "source": [
    "price.unique(), speed.unique()"
   ]
  },
  {
   "cell_type": "code",
   "execution_count": 128,
   "metadata": {
    "collapsed": false
   },
   "outputs": [],
   "source": [
    "# price.max"
   ]
  },
  {
   "cell_type": "code",
   "execution_count": 129,
   "metadata": {
    "collapsed": false
   },
   "outputs": [
    {
     "name": "stderr",
     "output_type": "stream",
     "text": [
      "/dataquest/system/env/python3/lib/python3.4/site-packages/ipykernel/__main__.py:4: UserWarning: Boolean Series key will be reindexed to match DataFrame index.\n"
     ]
    }
   ],
   "source": [
    "# removing the outliers\n",
    "autos = autos[price.between(price.min(axis=0),price.max(axis=0), inclusive=False)]\n",
    "autos.reset_index(inplace = True)\n",
    "autos = autos[speed.between(speed.min(axis=0),speed.max(axis=0), inclusive=False)]"
   ]
  },
  {
   "cell_type": "code",
   "execution_count": 130,
   "metadata": {
    "collapsed": false
   },
   "outputs": [
    {
     "data": {
      "text/plain": [
       "(16039, 21)"
      ]
     },
     "execution_count": 130,
     "metadata": {},
     "output_type": "execute_result"
    }
   ],
   "source": [
    "autos.shape"
   ]
  },
  {
   "cell_type": "code",
   "execution_count": 131,
   "metadata": {
    "collapsed": false
   },
   "outputs": [
    {
     "name": "stdout",
     "output_type": "stream",
     "text": [
      "2016-03-21 19:53:48    0.000125\n",
      "2016-03-23 22:53:33    0.000125\n",
      "2016-03-27 20:48:00    0.000125\n",
      "2016-04-04 17:50:45    0.000125\n",
      "2016-04-01 22:55:00    0.000125\n",
      "2016-03-07 19:53:43    0.000125\n",
      "2016-03-23 16:45:54    0.000125\n",
      "2016-03-20 20:50:18    0.000125\n",
      "2016-03-26 17:49:36    0.000125\n",
      "2016-03-13 18:36:42    0.000125\n",
      "2016-03-30 11:54:33    0.000125\n",
      "2016-03-20 14:39:11    0.000125\n",
      "2016-03-11 20:56:02    0.000125\n",
      "2016-03-23 20:36:18    0.000125\n",
      "2016-03-22 17:36:39    0.000125\n",
      "2016-04-02 15:47:03    0.000125\n",
      "2016-03-21 14:06:23    0.000125\n",
      "2016-03-19 12:54:33    0.000125\n",
      "2016-03-08 14:39:13    0.000125\n",
      "2016-03-16 17:58:35    0.000125\n",
      "2016-03-24 22:51:23    0.000125\n",
      "2016-03-16 13:49:52    0.000125\n",
      "2016-03-24 13:50:39    0.000125\n",
      "2016-04-03 18:40:27    0.000125\n",
      "2016-03-28 22:36:20    0.000125\n",
      "2016-03-20 17:47:21    0.000125\n",
      "2016-03-31 13:06:20    0.000125\n",
      "2016-04-03 15:58:44    0.000125\n",
      "2016-04-02 12:52:59    0.000125\n",
      "2016-03-29 21:55:05    0.000125\n",
      "                         ...   \n",
      "2016-03-22 13:56:46    0.000062\n",
      "2016-03-31 14:53:36    0.000062\n",
      "2016-03-22 08:36:22    0.000062\n",
      "2016-03-14 17:40:53    0.000062\n",
      "2016-03-23 18:50:32    0.000062\n",
      "2016-04-03 22:47:03    0.000062\n",
      "2016-03-06 11:48:07    0.000062\n",
      "2016-03-19 02:47:28    0.000062\n",
      "2016-03-05 20:54:25    0.000062\n",
      "2016-03-19 11:47:51    0.000062\n",
      "2016-03-15 21:51:21    0.000062\n",
      "2016-04-03 17:51:32    0.000062\n",
      "2016-03-15 13:53:51    0.000062\n",
      "2016-03-25 23:52:32    0.000062\n",
      "2016-03-07 18:37:22    0.000062\n",
      "2016-03-20 13:58:51    0.000062\n",
      "2016-04-04 16:59:31    0.000062\n",
      "2016-03-16 11:59:29    0.000062\n",
      "2016-03-28 11:51:36    0.000062\n",
      "2016-03-05 20:52:29    0.000062\n",
      "2016-03-27 14:36:41    0.000062\n",
      "2016-03-19 10:51:13    0.000062\n",
      "2016-04-01 08:54:10    0.000062\n",
      "2016-03-28 12:43:46    0.000062\n",
      "2016-04-04 09:37:23    0.000062\n",
      "2016-03-14 23:53:14    0.000062\n",
      "2016-03-28 10:56:35    0.000062\n",
      "2016-03-06 03:02:28    0.000062\n",
      "2016-03-15 21:36:44    0.000062\n",
      "2016-03-21 16:51:31    0.000062\n",
      "Name: dateCrawled, Length: 15868, dtype: float64\n",
      "2016-03-20 00:00:00    0.040027\n",
      "2016-04-03 00:00:00    0.039155\n",
      "2016-03-21 00:00:00    0.038282\n",
      "2016-03-12 00:00:00    0.037970\n",
      "2016-03-14 00:00:00    0.037409\n",
      "2016-04-04 00:00:00    0.036224\n",
      "2016-04-02 00:00:00    0.035040\n",
      "2016-03-07 00:00:00    0.034666\n",
      "2016-03-11 00:00:00    0.034291\n",
      "2016-03-29 00:00:00    0.034104\n",
      "2016-03-28 00:00:00    0.034104\n",
      "2016-03-30 00:00:00    0.034042\n",
      "2016-03-15 00:00:00    0.033543\n",
      "2016-03-19 00:00:00    0.033356\n",
      "2016-03-22 00:00:00    0.032982\n",
      "2016-03-27 00:00:00    0.032795\n",
      "2016-04-01 00:00:00    0.032546\n",
      "2016-03-31 00:00:00    0.032359\n",
      "2016-03-08 00:00:00    0.032172\n",
      "2016-03-09 00:00:00    0.031735\n",
      "2016-03-10 00:00:00    0.031236\n",
      "2016-03-25 00:00:00    0.031236\n",
      "2016-03-17 00:00:00    0.030426\n",
      "2016-03-26 00:00:00    0.030052\n",
      "2016-03-16 00:00:00    0.030052\n",
      "2016-03-24 00:00:00    0.029989\n",
      "2016-03-23 00:00:00    0.029802\n",
      "2016-03-05 00:00:00    0.022570\n",
      "2016-03-13 00:00:00    0.017333\n",
      "2016-03-06 00:00:00    0.015213\n",
      "2016-03-18 00:00:00    0.015213\n",
      "2016-04-05 00:00:00    0.010537\n",
      "2016-04-06 00:00:00    0.003990\n",
      "2016-03-04 00:00:00    0.001496\n",
      "2016-04-07 00:00:00    0.001372\n",
      "2016-03-03 00:00:00    0.000811\n",
      "2016-02-28 00:00:00    0.000374\n",
      "2016-02-29 00:00:00    0.000312\n",
      "2016-02-21 00:00:00    0.000125\n",
      "2016-02-18 00:00:00    0.000125\n",
      "2016-02-23 00:00:00    0.000125\n",
      "2016-02-27 00:00:00    0.000062\n",
      "2016-01-27 00:00:00    0.000062\n",
      "2016-03-02 00:00:00    0.000062\n",
      "2016-03-01 00:00:00    0.000062\n",
      "2016-01-14 00:00:00    0.000062\n",
      "2016-02-26 00:00:00    0.000062\n",
      "2016-01-22 00:00:00    0.000062\n",
      "2015-12-05 00:00:00    0.000062\n",
      "2016-02-11 00:00:00    0.000062\n",
      "2016-02-19 00:00:00    0.000062\n",
      "2016-02-25 00:00:00    0.000062\n",
      "2015-06-11 00:00:00    0.000062\n",
      "2016-01-07 00:00:00    0.000062\n",
      "Name: ad_created, dtype: float64\n",
      "2016-04-07 03:16:17    0.000312\n",
      "2016-04-07 08:16:50    0.000249\n",
      "2016-04-06 01:46:48    0.000249\n",
      "2016-04-06 06:17:01    0.000249\n",
      "2016-04-05 15:44:48    0.000249\n",
      "2016-04-07 00:17:40    0.000249\n",
      "2016-04-07 00:45:17    0.000249\n",
      "2016-04-07 01:17:37    0.000249\n",
      "2016-04-06 10:17:12    0.000249\n",
      "2016-04-06 11:15:27    0.000249\n",
      "2016-04-07 11:16:01    0.000249\n",
      "2016-04-07 00:15:33    0.000249\n",
      "2016-04-06 05:16:14    0.000249\n",
      "2016-04-07 08:46:00    0.000249\n",
      "2016-04-05 18:44:34    0.000187\n",
      "2016-04-06 04:17:07    0.000187\n",
      "2016-04-07 02:44:24    0.000187\n",
      "2016-04-06 16:15:52    0.000187\n",
      "2016-04-07 02:15:37    0.000187\n",
      "2016-04-07 09:15:38    0.000187\n",
      "2016-04-07 02:17:12    0.000187\n",
      "2016-04-07 04:17:51    0.000187\n",
      "2016-04-07 00:18:05    0.000187\n",
      "2016-04-06 12:16:45    0.000187\n",
      "2016-04-06 03:17:30    0.000187\n",
      "2016-04-05 16:44:32    0.000187\n",
      "2016-04-06 11:15:25    0.000187\n",
      "2016-04-07 03:17:06    0.000187\n",
      "2016-04-07 13:17:54    0.000187\n",
      "2016-04-05 15:17:32    0.000187\n",
      "                         ...   \n",
      "2016-04-06 03:17:38    0.000062\n",
      "2016-04-07 14:56:01    0.000062\n",
      "2016-03-30 08:44:41    0.000062\n",
      "2016-04-05 19:47:48    0.000062\n",
      "2016-04-06 17:15:49    0.000062\n",
      "2016-03-18 01:16:17    0.000062\n",
      "2016-04-04 02:45:53    0.000062\n",
      "2016-04-03 11:17:25    0.000062\n",
      "2016-03-22 11:46:32    0.000062\n",
      "2016-04-06 00:45:19    0.000062\n",
      "2016-03-12 17:19:45    0.000062\n",
      "2016-04-07 13:16:06    0.000062\n",
      "2016-03-28 15:18:06    0.000062\n",
      "2016-03-19 11:50:36    0.000062\n",
      "2016-04-07 10:45:13    0.000062\n",
      "2016-03-30 19:45:38    0.000062\n",
      "2016-04-06 02:44:28    0.000062\n",
      "2016-04-06 02:16:42    0.000062\n",
      "2016-04-05 14:17:33    0.000062\n",
      "2016-04-06 08:17:47    0.000062\n",
      "2016-03-27 09:47:00    0.000062\n",
      "2016-03-20 16:45:08    0.000062\n",
      "2016-03-17 11:16:10    0.000062\n",
      "2016-04-03 20:48:02    0.000062\n",
      "2016-03-16 13:54:04    0.000062\n",
      "2016-03-12 13:49:17    0.000062\n",
      "2016-04-06 19:47:12    0.000062\n",
      "2016-04-07 09:45:43    0.000062\n",
      "2016-04-04 18:55:54    0.000062\n",
      "2016-03-15 10:44:58    0.000062\n",
      "Name: lastSeen, Length: 14701, dtype: float64\n"
     ]
    }
   ],
   "source": [
    "dates = ['dateCrawled', 'ad_created', 'lastSeen']\n",
    "\n",
    "for i in dates:\n",
    "    print(autos[i].value_counts(normalize=True, dropna=False))"
   ]
  },
  {
   "cell_type": "code",
   "execution_count": 132,
   "metadata": {
    "collapsed": false
   },
   "outputs": [
    {
     "data": {
      "text/plain": [
       "count    16039.000000\n",
       "mean      2003.959162\n",
       "std         42.673973\n",
       "min       1111.000000\n",
       "25%       1999.000000\n",
       "50%       2004.000000\n",
       "75%       2008.000000\n",
       "max       5911.000000\n",
       "Name: registration_year, dtype: float64"
      ]
     },
     "execution_count": 132,
     "metadata": {},
     "output_type": "execute_result"
    }
   ],
   "source": [
    "autos['registration_year'].describe()"
   ]
  },
  {
   "cell_type": "markdown",
   "metadata": {},
   "source": [
    "likely using 9999 as unknown (max)\n",
    "likely using 1000 as unknown (min)"
   ]
  },
  {
   "cell_type": "code",
   "execution_count": 133,
   "metadata": {
    "collapsed": false
   },
   "outputs": [
    {
     "data": {
      "text/plain": [
       "2000    0.064218\n",
       "2005    0.061039\n",
       "1999    0.059168\n",
       "2003    0.057734\n",
       "2004    0.055801\n",
       "2006    0.055614\n",
       "2001    0.053682\n",
       "2002    0.050377\n",
       "1998    0.049816\n",
       "2007    0.047634\n",
       "2008    0.046013\n",
       "2009    0.043082\n",
       "1997    0.038593\n",
       "2011    0.032546\n",
       "2010    0.032546\n",
       "2017    0.029428\n",
       "1996    0.029241\n",
       "2012    0.026061\n",
       "1995    0.025189\n",
       "2016    0.024877\n",
       "2013    0.016834\n",
       "2014    0.014278\n",
       "1994    0.013405\n",
       "2018    0.008853\n",
       "1993    0.008666\n",
       "2015    0.008168\n",
       "1992    0.007669\n",
       "1991    0.006422\n",
       "1990    0.006172\n",
       "1989    0.002743\n",
       "          ...   \n",
       "1977    0.000499\n",
       "1969    0.000499\n",
       "1973    0.000436\n",
       "1968    0.000436\n",
       "1975    0.000436\n",
       "1974    0.000436\n",
       "1965    0.000374\n",
       "1960    0.000374\n",
       "1976    0.000249\n",
       "1964    0.000249\n",
       "1963    0.000187\n",
       "1937    0.000125\n",
       "1956    0.000125\n",
       "1910    0.000125\n",
       "1959    0.000125\n",
       "4800    0.000062\n",
       "1951    0.000062\n",
       "1943    0.000062\n",
       "1111    0.000062\n",
       "1958    0.000062\n",
       "1934    0.000062\n",
       "4100    0.000062\n",
       "1938    0.000062\n",
       "1929    0.000062\n",
       "1941    0.000062\n",
       "5911    0.000062\n",
       "1948    0.000062\n",
       "1955    0.000062\n",
       "1931    0.000062\n",
       "1952    0.000062\n",
       "Name: registration_year, Length: 76, dtype: float64"
      ]
     },
     "execution_count": 133,
     "metadata": {},
     "output_type": "execute_result"
    }
   ],
   "source": [
    "autos['registration_year'].value_counts(normalize=True)"
   ]
  },
  {
   "cell_type": "code",
   "execution_count": 134,
   "metadata": {
    "collapsed": false
   },
   "outputs": [],
   "source": [
    "registration = autos['registration_year']\n",
    "autos = autos[registration.between(registration.min(axis=0),registration.max(axis=0))]\n",
    "autos.reset_index(inplace=True)"
   ]
  },
  {
   "cell_type": "code",
   "execution_count": 137,
   "metadata": {
    "collapsed": false
   },
   "outputs": [
    {
     "data": {
      "text/plain": [
       "count    16039.000000\n",
       "mean      2003.959162\n",
       "std         42.673973\n",
       "min       1111.000000\n",
       "25%       1999.000000\n",
       "50%       2004.000000\n",
       "75%       2008.000000\n",
       "max       5911.000000\n",
       "Name: registration_year, dtype: float64"
      ]
     },
     "execution_count": 137,
     "metadata": {},
     "output_type": "execute_result"
    }
   ],
   "source": [
    "registration.describe()"
   ]
  },
  {
   "cell_type": "code",
   "execution_count": null,
   "metadata": {
    "collapsed": true
   },
   "outputs": [],
   "source": []
  }
 ],
 "metadata": {
  "kernelspec": {
   "display_name": "Python 3",
   "language": "python",
   "name": "python3"
  },
  "language_info": {
   "codemirror_mode": {
    "name": "ipython",
    "version": 3
   },
   "file_extension": ".py",
   "mimetype": "text/x-python",
   "name": "python",
   "nbconvert_exporter": "python",
   "pygments_lexer": "ipython3",
   "version": "3.4.3"
  }
 },
 "nbformat": 4,
 "nbformat_minor": 2
}
